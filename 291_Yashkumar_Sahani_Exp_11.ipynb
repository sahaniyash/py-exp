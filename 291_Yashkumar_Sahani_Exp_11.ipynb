{
 "cells": [
  {
   "cell_type": "markdown",
   "id": "6c6c9f69",
   "metadata": {},
   "source": [
    "# # Experiment 11\n",
    "## NumPy Array objects\n",
    "### a) Program comparing two numpy arrays"
   ]
  },
  {
   "cell_type": "code",
   "execution_count": 2,
   "id": "581d9288",
   "metadata": {},
   "outputs": [
    {
     "name": "stdout",
     "output_type": "stream",
     "text": [
      "a == b: [ True  True False  True]\n",
      "a > b: [False False False False]\n",
      "a <= b: [ True  True  True  True]\n"
     ]
    }
   ],
   "source": [
    "import numpy as np\n",
    "\n",
    "# comparing two arrays\n",
    "a = np.array([2, 0, 0, 3])\n",
    "b = np.array([2, 0, 2, 3])\n",
    "\n",
    "c = a == b\n",
    "print(\"a == b:\", c)\n",
    "\n",
    "c = a > b\n",
    "print(\"a > b:\", c)\n",
    "\n",
    "c = a <= b\n",
    "print(\"a <= b:\", c)"
   ]
  },
  {
   "cell_type": "code",
   "execution_count": 3,
   "id": "252b76d6",
   "metadata": {},
   "outputs": [
    {
     "name": "stdout",
     "output_type": "stream",
     "text": [
      "True\n",
      "False\n"
     ]
    }
   ],
   "source": [
    "# check for boolean values inside arrays\n",
    "c = a < b\n",
    "print(np.any(c))\n",
    "print(np.all(c))"
   ]
  },
  {
   "cell_type": "code",
   "execution_count": 4,
   "id": "b55abca8",
   "metadata": {},
   "outputs": [
    {
     "name": "stdout",
     "output_type": "stream",
     "text": [
      "[2 0 0 3]\n",
      "0 < a < 4: [ True False False  True]\n",
      "a >= 0 or a == 1: [ True  True  True  True]\n",
      "not a: [False  True  True False]\n"
     ]
    }
   ],
   "source": [
    "# logical operations\n",
    "print(a)\n",
    "c = np.logical_and(a > 0, a < 4)\n",
    "print(\"0 < a < 4:\", c)\n",
    "\n",
    "c = np.logical_or(a >= 0, a == 1)\n",
    "print(\"a >= 0 or a == 1:\", c)\n",
    "\n",
    "c = np.logical_not(a)\n",
    "print(\"not a:\", c)"
   ]
  },
  {
   "cell_type": "markdown",
   "id": "0bef91b0",
   "metadata": {},
   "source": [
    "### b) Program using numpy array attributes like ndim, shape, size, and reshape() and flatten() methods# "
   ]
  },
  {
   "cell_type": "code",
   "execution_count": 5,
   "id": "f21b907d",
   "metadata": {},
   "outputs": [
    {
     "name": "stdout",
     "output_type": "stream",
     "text": [
      "<class 'numpy.ndarray'>\n",
      "['11' '11.2' 'adi' 'True']\n",
      "<U32\n"
     ]
    }
   ],
   "source": [
    "# numpy arrays of mixed types are not allowed\n",
    "x = np.array([11, 11.2, 'adi', True])\n",
    "print(type(x))\n",
    "print(x)\n",
    "print(x.dtype)"
   ]
  },
  {
   "cell_type": "code",
   "execution_count": 9,
   "id": "9a1b41fc",
   "metadata": {},
   "outputs": [
    {
     "name": "stdout",
     "output_type": "stream",
     "text": [
      "[ 2  3  4  5  6  7  8  9 10 11 12 13 14 15 16 17 18 19 20 21 22]\n",
      "[3 5 7 9]\n"
     ]
    }
   ],
   "source": [
    "# slicing\n",
    "a = np.arange(2, 23)\n",
    "print(a)\n",
    "\n",
    "b = a[1:8:2]\n",
    "print(b)"
   ]
  },
  {
   "cell_type": "code",
   "execution_count": 10,
   "id": "3ef1fcaa",
   "metadata": {},
   "outputs": [
    {
     "name": "stdout",
     "output_type": "stream",
     "text": [
      "[ 2  3  4  5  6  7  8  9 10 11 12 13 14 15 16 17 18 19 20 21 22]\n"
     ]
    }
   ],
   "source": [
    "b = a[::]\n",
    "print(b)"
   ]
  },
  {
   "cell_type": "code",
   "execution_count": 11,
   "id": "ff887770",
   "metadata": {},
   "outputs": [
    {
     "name": "stdout",
     "output_type": "stream",
     "text": [
      "[21 20 19 18 17 16 15 14 13 12 11 10  9  8  7  6  5]\n"
     ]
    }
   ],
   "source": [
    "b = a[-2:2:-1]\n",
    "print(b)"
   ]
  },
  {
   "cell_type": "code",
   "execution_count": 12,
   "id": "dc4e0189",
   "metadata": {},
   "outputs": [
    {
     "name": "stdout",
     "output_type": "stream",
     "text": [
      "a: [ 2  3  4  5  6  7  8  9 10 11 12 13 14 15 16 17 18 19 20 21 22]\n",
      "a[0]:  2\n",
      "a[4]:  6\n",
      "a[-1]:  22\n",
      "a[-3]:  20\n"
     ]
    }
   ],
   "source": [
    "# indexing\n",
    "print(\"a:\", a)\n",
    "print(\"a[0]: \", a[0])\n",
    "print(\"a[4]: \", a[4])\n",
    "print(\"a[-1]: \", a[-1])\n",
    "print(\"a[-3]: \", a[-3])"
   ]
  },
  {
   "cell_type": "code",
   "execution_count": 13,
   "id": "1892b3d1",
   "metadata": {},
   "outputs": [
    {
     "name": "stdout",
     "output_type": "stream",
     "text": [
      "a:  [1 2 3 4]\n",
      "b:  [[1 2]\n",
      " [3 4]]\n",
      "c:  [[ 1  2]\n",
      " [ 7  8]\n",
      " [ 3  4]\n",
      " [ 9 11]]\n"
     ]
    }
   ],
   "source": [
    "# array dimensions\n",
    "a = np.array([1, 2, 3, 4])\n",
    "b = np.array([[1, 2], [3, 4]])\n",
    "c = np.array([[1, 2], [7, 8], [3, 4], [9, 11]])\n",
    "\n",
    "print(\"a: \", a)\n",
    "print(\"b: \", b)\n",
    "print(\"c: \", c)"
   ]
  },
  {
   "cell_type": "code",
   "execution_count": 14,
   "id": "9df30101",
   "metadata": {},
   "outputs": [
    {
     "name": "stdout",
     "output_type": "stream",
     "text": [
      "a.ndim:  1\n",
      "b.ndim:  2\n",
      "c.ndim:  2\n"
     ]
    }
   ],
   "source": [
    "# ndim\n",
    "# ndim denotes the rank of the array (e.g. 1D array, 2D array)\n",
    "\n",
    "print(\"a.ndim: \", a.ndim)\n",
    "print(\"b.ndim: \", b.ndim)\n",
    "print(\"c.ndim: \", c.ndim)"
   ]
  },
  {
   "cell_type": "code",
   "execution_count": 15,
   "id": "26b08d9d",
   "metadata": {},
   "outputs": [
    {
     "name": "stdout",
     "output_type": "stream",
     "text": [
      "a.shape:  (4,)\n",
      "b.shape:  (2, 2)\n",
      "c.shape:  (4, 2)\n"
     ]
    }
   ],
   "source": [
    "# shape\n",
    "# shape denotes number of elements along each dimension\n",
    "\n",
    "print(\"a.shape: \", a.shape)\n",
    "print(\"b.shape: \", b.shape)\n",
    "print(\"c.shape: \", c.shape)"
   ]
  },
  {
   "cell_type": "code",
   "execution_count": 16,
   "id": "2fd7dfcb",
   "metadata": {},
   "outputs": [
    {
     "name": "stdout",
     "output_type": "stream",
     "text": [
      "a.size:  4\n",
      "b.size:  4\n",
      "c.size:  8\n"
     ]
    }
   ],
   "source": [
    "# size\n",
    "# size denotes the total number of elements in an array\n",
    "\n",
    "print(\"a.size: \", a.size)\n",
    "print(\"b.size: \", b.size)\n",
    "print(\"c.size: \", c.size)"
   ]
  },
  {
   "cell_type": "code",
   "execution_count": 17,
   "id": "f6447a7b",
   "metadata": {},
   "outputs": [
    {
     "name": "stdout",
     "output_type": "stream",
     "text": [
      "a.dtype int32\n",
      "[2.3 1.  5.6]\n",
      "float64\n"
     ]
    }
   ],
   "source": [
    "# dtype\n",
    "\n",
    "print(\"a.dtype\", a.dtype)\n",
    "\n",
    "d = np.array([2.3, 1, 5.6])\n",
    "print(d)\n",
    "print(d.dtype)"
   ]
  },
  {
   "cell_type": "code",
   "execution_count": 18,
   "id": "1192ff65",
   "metadata": {},
   "outputs": [
    {
     "name": "stdout",
     "output_type": "stream",
     "text": [
      "[0 1 2 3 4 5 6 7 8 9]\n",
      "[[0 1 2 3 4]\n",
      " [5 6 7 8 9]]\n"
     ]
    }
   ],
   "source": [
    "# reshape() method\n",
    "arr1 = np.arange(10)\n",
    "print(arr1)\n",
    "\n",
    "arr1 = arr1.reshape(2, 5)\n",
    "print(arr1)"
   ]
  },
  {
   "cell_type": "code",
   "execution_count": 19,
   "id": "98aceaf9",
   "metadata": {},
   "outputs": [
    {
     "name": "stdout",
     "output_type": "stream",
     "text": [
      "[[0 1]\n",
      " [2 3]\n",
      " [4 5]\n",
      " [6 7]\n",
      " [8 9]]\n"
     ]
    }
   ],
   "source": [
    "arr2 = arr1.reshape(5, 2)\n",
    "print(arr2)"
   ]
  },
  {
   "cell_type": "code",
   "execution_count": 20,
   "id": "509a2a46",
   "metadata": {},
   "outputs": [
    {
     "name": "stdout",
     "output_type": "stream",
     "text": [
      "cannot reshape array of size 10 into shape (5,3)\n"
     ]
    }
   ],
   "source": [
    "try:\n",
    "    arr2 = arr1.reshape(5, 3)\n",
    "except ValueError as e:\n",
    "    print(e)"
   ]
  },
  {
   "cell_type": "code",
   "execution_count": 21,
   "id": "66099053",
   "metadata": {},
   "outputs": [
    {
     "name": "stdout",
     "output_type": "stream",
     "text": [
      "[[0 1]\n",
      " [2 3]\n",
      " [4 5]\n",
      " [6 7]\n",
      " [8 9]]\n",
      "[0 1 2 3 4 5 6 7 8 9]\n"
     ]
    }
   ],
   "source": [
    "# flatten() method\n",
    "print(arr2)\n",
    "\n",
    "arr3 = arr2.flatten()\n",
    "print(arr3)"
   ]
  },
  {
   "cell_type": "code",
   "execution_count": 22,
   "id": "a9282c33",
   "metadata": {},
   "outputs": [
    {
     "name": "stdout",
     "output_type": "stream",
     "text": [
      "[9 8 7 6 5 4 3 2 1 0]\n",
      "[0 1 2 3 4 5 6 7 8 9]\n"
     ]
    }
   ],
   "source": [
    "# sorting\n",
    "# descending order\n",
    "sorted_arr3 = np.sort(arr3)[::-1]\n",
    "print(sorted_arr3)\n",
    "#ascending order\n",
    "print(np.sort(sorted_arr3))"
   ]
  },
  {
   "cell_type": "markdown",
   "id": "a5066660",
   "metadata": {},
   "source": [
    "### c) Program to perform arithmetic operations (addition, subtraction, multiplication, division) on numpy arrays# "
   ]
  },
  {
   "cell_type": "code",
   "execution_count": 24,
   "id": "7a3b89ac",
   "metadata": {},
   "outputs": [
    {
     "name": "stdout",
     "output_type": "stream",
     "text": [
      "a: [0 1 2 3 4 5 6 7 8 9]\n",
      "b: [ 2  4  6  8 10 12 14 16 18 20]\n"
     ]
    }
   ],
   "source": [
    "# numpy arrays\n",
    "a = np.arange(10)\n",
    "b = np.arange(2, 22, 2)\n",
    "\n",
    "print(\"a:\", a)\n",
    "print(\"b:\", b)"
   ]
  },
  {
   "cell_type": "code",
   "execution_count": 25,
   "id": "3be79479",
   "metadata": {},
   "outputs": [
    {
     "name": "stdout",
     "output_type": "stream",
     "text": [
      "[ 2  5  8 11 14 17 20 23 26 29]\n"
     ]
    }
   ],
   "source": [
    "c = a + b\n",
    "print(c)"
   ]
  },
  {
   "cell_type": "code",
   "execution_count": 26,
   "id": "35b63843",
   "metadata": {},
   "outputs": [
    {
     "name": "stdout",
     "output_type": "stream",
     "text": [
      "[ -2  -3  -4  -5  -6  -7  -8  -9 -10 -11]\n"
     ]
    }
   ],
   "source": [
    "print(a - b)"
   ]
  },
  {
   "cell_type": "code",
   "execution_count": 27,
   "id": "c0739b22",
   "metadata": {},
   "outputs": [
    {
     "name": "stdout",
     "output_type": "stream",
     "text": [
      "[0.         0.25       0.33333333 0.375      0.4        0.41666667\n",
      " 0.42857143 0.4375     0.44444444 0.45      ]\n"
     ]
    }
   ],
   "source": [
    "print(a / b)"
   ]
  },
  {
   "cell_type": "code",
   "execution_count": 28,
   "id": "3b272055",
   "metadata": {},
   "outputs": [
    {
     "name": "stdout",
     "output_type": "stream",
     "text": [
      "[  0   4  12  24  40  60  84 112 144 180]\n"
     ]
    }
   ],
   "source": [
    "print(a * b)"
   ]
  },
  {
   "cell_type": "code",
   "execution_count": 31,
   "id": "f9a8d66a",
   "metadata": {},
   "outputs": [
    {
     "name": "stdout",
     "output_type": "stream",
     "text": [
      "m1: [[ 4  9]\n",
      " [16 25]]\n",
      "m2: [[36 49]\n",
      " [64 81]]\n"
     ]
    }
   ],
   "source": [
    "# 2D arrays\n",
    "m1 = np.array([[4,9],[16,25]])\n",
    "m2 = np.array([[36,49],[64,81]])\n",
    "\n",
    "print(\"m1:\", m1)\n",
    "print(\"m2:\", m2)"
   ]
  },
  {
   "cell_type": "code",
   "execution_count": 32,
   "id": "19e078b6",
   "metadata": {},
   "outputs": [
    {
     "name": "stdout",
     "output_type": "stream",
     "text": [
      "[[ 40  58]\n",
      " [ 80 106]]\n"
     ]
    }
   ],
   "source": [
    "print(m1 + m2)"
   ]
  },
  {
   "cell_type": "code",
   "execution_count": 33,
   "id": "c5e6bf18",
   "metadata": {},
   "outputs": [
    {
     "name": "stdout",
     "output_type": "stream",
     "text": [
      "[[-32 -40]\n",
      " [-48 -56]]\n"
     ]
    }
   ],
   "source": [
    "print(m1 - m2)"
   ]
  },
  {
   "cell_type": "code",
   "execution_count": 34,
   "id": "729de7ec",
   "metadata": {},
   "outputs": [
    {
     "name": "stdout",
     "output_type": "stream",
     "text": [
      "[[0.11111111 0.18367347]\n",
      " [0.25       0.30864198]]\n"
     ]
    }
   ],
   "source": [
    "print(m1 / m2)"
   ]
  },
  {
   "cell_type": "code",
   "execution_count": 35,
   "id": "3ac715da",
   "metadata": {},
   "outputs": [
    {
     "name": "stdout",
     "output_type": "stream",
     "text": [
      "[[ 144  441]\n",
      " [1024 2025]]\n"
     ]
    }
   ],
   "source": [
    "print(m1 * m2)"
   ]
  }
 ],
 "metadata": {
  "kernelspec": {
   "display_name": "Python 3 (ipykernel)",
   "language": "python",
   "name": "python3"
  },
  "language_info": {
   "codemirror_mode": {
    "name": "ipython",
    "version": 3
   },
   "file_extension": ".py",
   "mimetype": "text/x-python",
   "name": "python",
   "nbconvert_exporter": "python",
   "pygments_lexer": "ipython3",
   "version": "3.9.13"
  }
 },
 "nbformat": 4,
 "nbformat_minor": 5
}
