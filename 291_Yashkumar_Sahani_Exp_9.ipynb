{
 "cells": [
  {
   "cell_type": "markdown",
   "id": "bbb4c098",
   "metadata": {
    "id": "bbb4c098"
   },
   "source": [
    "# Experiment 9\n",
    "\n",
    "# Program on Threading using Python"
   ]
  },
  {
   "cell_type": "markdown",
   "id": "ed62fec9",
   "metadata": {
    "id": "ed62fec9"
   },
   "source": [
    "## a) Write a python program that performs two tasks simultaneously"
   ]
  },
  {
   "cell_type": "code",
   "execution_count": 1,
   "id": "bc251e03",
   "metadata": {
    "colab": {
     "base_uri": "https://localhost:8080/"
    },
    "id": "bc251e03",
    "outputId": "a2f4e7fc-b903-4069-a17c-00a0ab226680"
   },
   "outputs": [
    {
     "name": "stdout",
     "output_type": "stream",
     "text": [
      "Starting Thread: Sumit\n",
      "Starting Thread: Nitin\n",
      "Starting Thread: Mukesh\n",
      "Sumit -----> 1679671318.351758\n",
      "Nitin -----> 1679671319.3547716\n",
      "Mukesh -----> 1679671320.3607702\n",
      "Sumit -----> 1679671323.3567638\n",
      "Nitin -----> 1679671325.3610513\n",
      "Mukesh -----> 1679671327.3683994\n",
      "Sumit -----> 1679671328.3618455\n",
      "Nitin -----> 1679671331.3667822\n",
      "Sumit -----> 1679671333.3651571\n",
      "Execution of Thread Sumit is completed.\n",
      "Mukesh -----> 1679671334.3757515\n",
      "Nitin -----> 1679671337.3731847\n",
      "Execution of Thread Nitin is completed.\n",
      "Mukesh -----> 1679671341.3827684\n",
      "Execution of Thread Mukesh is completed.\n"
     ]
    }
   ],
   "source": [
    "from threading import Thread\n",
    "import time as t\n",
    "\n",
    "def thread_delay(thread_name, delay):\n",
    "    count = 0\n",
    "    while count < 4:\n",
    "        t.sleep(delay)\n",
    "        print(thread_name, \"----->\", t.time())\n",
    "        count += 1\n",
    "        \n",
    "class MyClass(Thread):\n",
    "    def __init__(self, name, delay):\n",
    "        Thread.__init__(self)\n",
    "        self.name = name\n",
    "        self.delay = delay\n",
    "        \n",
    "    def run(self):\n",
    "        print(\"Starting Thread:\", self.name)\n",
    "        thread_delay(self.name, self.delay)\n",
    "        print(\"Execution of Thread\", self.name, \"is completed.\")\n",
    "        \n",
    "t1 = MyClass('Ya', 5)\n",
    "t2 = MyClass('Nitin', 6)\n",
    "t3 = MyClass('Mukesh', 7)\n",
    "\n",
    "t1.start()\n",
    "t2.start()\n",
    "t3.start()\n",
    "\n",
    "t1.join()\n",
    "t2.join()\n",
    "t3.join()"
   ]
  },
  {
   "cell_type": "markdown",
   "id": "34374c19",
   "metadata": {
    "id": "34374c19"
   },
   "source": [
    "## b) Write a python program that uses Thread Synchronization"
   ]
  },
  {
   "cell_type": "code",
   "execution_count": 2,
   "id": "89916225",
   "metadata": {
    "colab": {
     "base_uri": "https://localhost:8080/"
    },
    "id": "89916225",
    "outputId": "32e1e282-8641-4a9e-e355-7701f1e36956"
   },
   "outputs": [
    {
     "name": "stdout",
     "output_type": "stream",
     "text": [
      "Available berths:  5\n",
      "4 berths allocated for Person 1\n"
     ]
    }
   ],
   "source": [
    "# Thread synchronization using locks\n",
    "import threading\n",
    "import time\n",
    "\n",
    "class RailwayBooking:\n",
    "    def __init__(self, available):\n",
    "        \"\"\"constructor that accepts number of available berths\"\"\"\n",
    "        self.available = available\n",
    "        # create a lock object\n",
    "        self.lock = threading.Lock()\n",
    "        \n",
    "    def reserve(self, wanted):\n",
    "        \"\"\"a method that reserves berth\"\"\"\n",
    "        # lock the current object\n",
    "        self.lock.acquire()\n",
    "        # display available berths\n",
    "        print(\"Available berths: \", self.available)\n",
    "        \n",
    "        # allot berth\n",
    "        if self.available >= wanted:\n",
    "            # find the thread name\n",
    "            name = threading.current_thread().name\n",
    "            print(\"{req} berths allocated for {name}\".format(req=wanted, name=name))\n",
    "            # time delay for printing ticket\n",
    "            time.sleep(0.99) # uncomment this\n",
    "            # update berths\n",
    "            self.available -= wanted\n",
    "        else:\n",
    "            print(\"Sorry, only\", self.available, \"berth/s is available\")\n",
    "            \n",
    "            input_user = \"Yes\"\n",
    "            \n",
    "            if input_user == \"Yes\":\n",
    "                print(self.available, \"berth/s allocated for\", threading.current_thread().name, \"out of\", wanted)\n",
    "                time.sleep(0.99)\n",
    "                self.available -= wanted\n",
    "            else:\n",
    "                print(\"Sorry No berth allocated\")\n",
    "        \n",
    "        # release the lock\n",
    "        self.lock.release()\n",
    "\n",
    "\n",
    "# create RailwayBooking object\n",
    "obj = RailwayBooking(5)\n",
    "\n",
    "# create two threads\n",
    "booking1 = threading.Thread(target=obj.reserve, args=(4,)) # demand 4 berths\n",
    "booking2 = threading.Thread(target=obj.reserve, args=(3,)) # demand 3 berths\n",
    "\n",
    "booking1.name = 'Person 1'\n",
    "booking2.name = 'Person 2'\n",
    "\n",
    "# run the threads\n",
    "booking1.start()\n",
    "booking2.start()"
   ]
  },
  {
   "cell_type": "code",
   "execution_count": null,
   "id": "93675eca",
   "metadata": {
    "id": "93675eca"
   },
   "outputs": [],
   "source": []
  }
 ],
 "metadata": {
  "colab": {
   "provenance": []
  },
  "kernelspec": {
   "display_name": "Python 3 (ipykernel)",
   "language": "python",
   "name": "python3"
  },
  "language_info": {
   "codemirror_mode": {
    "name": "ipython",
    "version": 3
   },
   "file_extension": ".py",
   "mimetype": "text/x-python",
   "name": "python",
   "nbconvert_exporter": "python",
   "pygments_lexer": "ipython3",
   "version": "3.9.13"
  }
 },
 "nbformat": 4,
 "nbformat_minor": 5
}
