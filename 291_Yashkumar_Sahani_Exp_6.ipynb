{
 "cells": [
  {
   "cell_type": "markdown",
   "id": "297cb549",
   "metadata": {},
   "source": [
    "# Experiment 6\n",
    "## Database connectivity in Python\n",
    "\n",
    "### a) Write python code to perform CRUD (create, read, update and delete) operations on a database"
   ]
  },
  {
   "cell_type": "code",
   "execution_count": 16,
   "id": "1736120b",
   "metadata": {},
   "outputs": [],
   "source": [
    "import mysql.connector as db\n",
    "\n",
    "def db_connect(server, user, passwd, dbname):\n",
    "    \"\"\"Connect to the DB and return the engine and connection objects\"\"\"\n",
    "    try:\n",
    "        conn = db.connect(host=server, user=user, password=passwd, database=dbname)\n",
    "        cursor = conn.cursor()\n",
    "    except db.Error as err:\n",
    "        print(\"Couldn't connect to the database:\", err)\n",
    "        return None\n",
    "    return conn, cursor\n",
    "\n",
    "def display_table_records(conn, tablename):\n",
    "    try:\n",
    "        cursor = conn.cursor()\n",
    "    except db.Error as err:\n",
    "        print(err)\n",
    "\n",
    "    query = \"select * from \" + tablename\n",
    "    cursor.execute(query)\n",
    "    \n",
    "    for rec in cursor.fetchall():\n",
    "        print(rec)"
   ]
  },
  {
   "cell_type": "code",
   "execution_count": 13,
   "id": "7e208d4e",
   "metadata": {},
   "outputs": [
    {
     "name": "stdout",
     "output_type": "stream",
     "text": [
      "<class 'mysql.connector.connection_cext.CMySQLConnection'>\n",
      "<class 'mysql.connector.cursor_cext.CMySQLCursor'>\n",
      "('emp_no', 'int(11)', 'NO', 'PRI', None, '')\n",
      "('birth_date', 'date', 'YES', '', None, '')\n",
      "('first_name', 'varchar(25)', 'NO', '', None, '')\n",
      "('last_name', 'varchar(25)', 'NO', '', None, '')\n",
      "('gender', \"enum('F','M')\", 'NO', '', None, '')\n",
      "('hire_date', 'date', 'NO', '', None, '')\n",
      "[]\n"
     ]
    },
    {
     "data": {
      "text/plain": [
       "True"
      ]
     },
     "execution_count": 13,
     "metadata": {},
     "output_type": "execute_result"
    }
   ],
   "source": [
    "\n",
    "# connect to the DB\n",
    "conn, cursor = db_connect(server = \"localhost\", user = \"root\", passwd = \"\", dbname = \"Employees\")\n",
    "print(type(conn))\n",
    "print(type(cursor))\n",
    "\n",
    "# employees table\n",
    "query = \"desc employees\"\n",
    "cursor.execute(query)\n",
    "for col in cursor:\n",
    "    print(col)\n",
    "\n",
    "query = 'delete from employees'\n",
    "cursor.execute(query)\n",
    "\n",
    "query = \"select * from employees\"\n",
    "cursor.execute(query)\n",
    "\n",
    "print(cursor.fetchall())\n",
    "\n",
    "cursor.close()\n"
   ]
  },
  {
   "cell_type": "code",
   "execution_count": 14,
   "id": "bbeca672",
   "metadata": {},
   "outputs": [
    {
     "name": "stdout",
     "output_type": "stream",
     "text": [
      "(1001, datetime.date(1985, 10, 12), 'John', 'Doe', 'M', datetime.date(2015, 9, 1))\n",
      "(1001, datetime.date(1985, 10, 12), 'John', 'Doe', 'M', datetime.date(2015, 9, 1))\n",
      "(1002, datetime.date(2001, 11, 23), 'Jane', 'Doe', 'F', datetime.date(2020, 3, 1))\n"
     ]
    }
   ],
   "source": [
    "# insert\n",
    "display_table_records(conn, 'employees')\n",
    "\n",
    "query = \"insert into employees (emp_no, birth_date, first_name, last_name, gender, hire_date) values (%s, %s, %s, %s, %s, %s)\"\n",
    "rec1 = (1001, '19851012', 'John', 'Doe', 'M', '20150901')\n",
    "\n",
    "cursor = conn.cursor()\n",
    "\n",
    "try:\n",
    "    cursor.execute(query, rec1)\n",
    "except BaseException as e:\n",
    "    print(\"Error: \", e)\n",
    "\n",
    "display_table_records(conn, 'employees')\n",
    "\n",
    "query2 = \"insert into employees (emp_no, birth_date, first_name, last_name, gender, hire_date) values (%(emp_no)s, %(birth_date)s, %(first_name)s, %(last_name)s, %(gender)s, %(hire_date)s)\"\n",
    "rec2 = {'emp_no':1002,\n",
    "        'birth_date':'20011123',\n",
    "        'first_name':'Jane',\n",
    "        'last_name':'Doe',\n",
    "        'gender':'F',\n",
    "        'hire_date':'20200301'\n",
    "       }\n",
    "\n",
    "try:\n",
    "    cursor.execute(query2, rec2)\n",
    "except BaseException as e:\n",
    "    print(\"Error: \", e)\n",
    "\n",
    "cursor.close()\n",
    "\n",
    "\n",
    "display_table_records(conn, 'employees')\n"
   ]
  },
  {
   "cell_type": "code",
   "execution_count": 15,
   "id": "353f00f7",
   "metadata": {},
   "outputs": [
    {
     "name": "stdout",
     "output_type": "stream",
     "text": [
      "(1001, datetime.date(1985, 10, 12), 'John', 'Doe', 'M', datetime.date(2015, 9, 1))\n",
      "(1002, datetime.date(2001, 11, 23), 'Jane', 'Doe', 'F', datetime.date(2020, 3, 1))\n",
      "(1003, datetime.date(1976, 1, 14), 'Bruce', 'Wayne', 'M', datetime.date(2000, 3, 4))\n",
      "(1004, datetime.date(1954, 10, 24), 'Alfred', 'Pennyworth', 'M', datetime.date(2000, 3, 4))\n",
      "(1005, datetime.date(1987, 11, 1), 'Barbara', 'Gordon', 'F', datetime.date(2012, 7, 11))\n"
     ]
    }
   ],
   "source": [
    "# insert multiple records\n",
    "value_list = [\n",
    "    {'emp_no':1003, 'birth_date':'19760114', 'first_name':'Bruce', 'last_name':'Wayne', 'gender':'M', 'hire_date':'20000304'},\n",
    "    {'emp_no':1004, 'birth_date':'19541024', 'first_name':'Alfred', 'last_name':'Pennyworth', 'gender':'M', 'hire_date':'20000304'},\n",
    "    {'emp_no':1005, 'birth_date':'19871101', 'first_name':'Barbara', 'last_name':'Gordon', 'gender':'F', 'hire_date':'20120711'}\n",
    "]\n",
    "\n",
    "cursor = conn.cursor()\n",
    "cursor.executemany(query2, value_list)\n",
    "conn.commit()\n",
    "\n",
    "display_table_records(conn, 'employees')\n"
   ]
  }
 ],
 "metadata": {
  "kernelspec": {
   "display_name": "Python 3 (ipykernel)",
   "language": "python",
   "name": "python3"
  },
  "language_info": {
   "codemirror_mode": {
    "name": "ipython",
    "version": 3
   },
   "file_extension": ".py",
   "mimetype": "text/x-python",
   "name": "python",
   "nbconvert_exporter": "python",
   "pygments_lexer": "ipython3",
   "version": "3.9.13"
  },
  "vscode": {
   "interpreter": {
    "hash": "be3f950095f4846377a17d42d86eb579248805da66f6e1685f87cbc8aeffb3a6"
   }
  }
 },
 "nbformat": 4,
 "nbformat_minor": 5
}
