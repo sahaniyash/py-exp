{
 "cells": [
  {
   "cell_type": "code",
   "execution_count": null,
   "metadata": {
    "colab": {
     "base_uri": "https://localhost:8080/"
    },
    "id": "4MTo6s1lVito",
    "outputId": "0508575c-b3d0-4408-f937-22e2008c06f9"
   },
   "outputs": [
    {
     "name": "stdout",
     "output_type": "stream",
     "text": [
      "String formatting is super useful feature in python\n"
     ]
    }
   ],
   "source": [
    "# python f-strings\n",
    "custom_string = \"String formatting\"\n",
    "print(f\"{custom_string} is super useful feature in python\")"
   ]
  },
  {
   "cell_type": "code",
   "execution_count": null,
   "metadata": {
    "colab": {
     "base_uri": "https://localhost:8080/"
    },
    "id": "EQZNW4WjVsqD",
    "outputId": "e8460313-dce5-4e7e-94e9-a00dd38cf662"
   },
   "outputs": [
    {
     "name": "stdout",
     "output_type": "stream",
     "text": [
      "Python is very easy to  learn and implement\n"
     ]
    }
   ],
   "source": [
    "# The .format method of str class\n",
    "\n",
    "# 'text{}'.format(value)\n",
    "# Positional formatting\n",
    "\n",
    "print(\"Python is very easy to  {}{}\".format(\"learn\", \" and implement\"))"
   ]
  },
  {
   "cell_type": "code",
   "execution_count": null,
   "metadata": {
    "colab": {
     "base_uri": "https://localhost:8080/"
    },
    "id": "uNjxJCI2Vs1O",
    "outputId": "824ddc20-4f89-407f-a92f-265f3e9551d5"
   },
   "outputs": [
    {
     "name": "stdout",
     "output_type": "stream",
     "text": [
      "Python is free and open source language\n"
     ]
    }
   ],
   "source": [
    "my_string = \"{} free {} open source language\"\n",
    "method = \"Python is\"\n",
    "condition = \"and\"\n",
    "print(my_string.format(method, condition))\n"
   ]
  },
  {
   "cell_type": "code",
   "execution_count": null,
   "metadata": {
    "colab": {
     "base_uri": "https://localhost:8080/"
    },
    "id": "EhvltzwOVs4B",
    "outputId": "94e021a4-5c50-435c-986e-b5b35385df1e"
   },
   "outputs": [
    {
     "name": "stdout",
     "output_type": "stream",
     "text": [
      " I ordered Burger Frech fries for breakfast not  pizza\n",
      " I ordered  pizza Burger for breakfast not Frech fries\n"
     ]
    }
   ],
   "source": [
    "# Reordering Values\n",
    "print(\" I ordered {} {} for breakfast not {}\". format(\"Burger\", \"Frech fries\", \" pizza\"))\n",
    "print(\" I ordered {2} {0} for breakfast not {1}\". format(\"Burger\", \"Frech fries\",  \" pizza\"))"
   ]
  },
  {
   "cell_type": "code",
   "execution_count": null,
   "metadata": {
    "colab": {
     "base_uri": "https://localhost:8080/"
    },
    "id": "otp_7bkGVs6B",
    "outputId": "0aed56cc-d0a4-404d-a003-3c5f1b449711"
   },
   "outputs": [
    {
     "name": "stdout",
     "output_type": "stream",
     "text": [
      " The scariest ride in imagica is rollercoster ride \n"
     ]
    }
   ],
   "source": [
    "# Name Placeholders\n",
    "tool=\"rollercoster ride\"\n",
    "goal=\"imagica\"\n",
    "print(\" The scariest ride in {aim} is {title} \".format(title=tool, aim=goal))"
   ]
  },
  {
   "cell_type": "code",
   "execution_count": null,
   "metadata": {
    "colab": {
     "base_uri": "https://localhost:8080/"
    },
    "id": "Fze4wyscVs77",
    "outputId": "848693d3-3691-44a4-add3-343aa0417a6e"
   },
   "outputs": [
    {
     "name": "stdout",
     "output_type": "stream",
     "text": [
      "Money Heist is the most liked series of Netflix\n"
     ]
    }
   ],
   "source": [
    "my_methods = {\"tool\": \"Money Heist\", \"goal\": \"Netflix\"}\n",
    "print('{data[tool]} is the most liked series of {data[goal]}'.format(data=my_methods))"
   ]
  },
  {
   "cell_type": "code",
   "execution_count": null,
   "metadata": {
    "colab": {
     "base_uri": "https://localhost:8080/"
    },
    "id": "b0TrJmWbVs_Y",
    "outputId": "8456019f-8db9-4b8b-ec1a-9185701dcc15"
   },
   "outputs": [
    {
     "name": "stdout",
     "output_type": "stream",
     "text": [
      "The world population is 7595959686.000000% and China rank first in world population\n",
      "The population is 0.45% of israel is one forth of china's population !\n"
     ]
    }
   ],
   "source": [
    "# Format Specifier\n",
    "print(\"The world population is {0:f}% and {1} rank first in {2}\". format(7595959686, \"China\", \"world population\"))\n",
    "print(\"The population is {0:.2f}% of {1} {2} of china's population !\".format(0.453455, \"israel\", \"is one forth\"))"
   ]
  },
  {
   "cell_type": "code",
   "execution_count": null,
   "metadata": {
    "colab": {
     "base_uri": "https://localhost:8080/"
    },
    "id": "qZfMxrxdWdCC",
    "outputId": "cc0335bb-87de-4a6b-807d-899e8e2c3f86"
   },
   "outputs": [
    {
     "name": "stdout",
     "output_type": "stream",
     "text": [
      "2023-03-09 17:10:42.732405\n"
     ]
    }
   ],
   "source": [
    "# Formatting datetime\n",
    "from datetime import datetime\n",
    "print(datetime.now())"
   ]
  },
  {
   "cell_type": "code",
   "execution_count": null,
   "metadata": {
    "colab": {
     "base_uri": "https://localhost:8080/"
    },
    "id": "P_manYKpWdOx",
    "outputId": "76e2d1e6-f1f3-481c-af82-fc14a9453627"
   },
   "outputs": [
    {
     "name": "stdout",
     "output_type": "stream",
     "text": [
      "Today's date is 2023-03-09 17:11\n"
     ]
    }
   ],
   "source": [
    "print(\"Today's date is {:%Y-%m-%d %H:%M}\".format(datetime.now()))"
   ]
  },
  {
   "cell_type": "code",
   "execution_count": null,
   "metadata": {
    "colab": {
     "base_uri": "https://localhost:8080/"
    },
    "id": "NE5voDdjXhaK",
    "outputId": "50567a34-b7c7-4442-f468-3f53806022d8"
   },
   "outputs": [
    {
     "name": "stdout",
     "output_type": "stream",
     "text": [
      "Date String: 09 March 2023\n",
      "Time String: 17:17:34\n"
     ]
    }
   ],
   "source": [
    "from datetime import datetime\n",
    "\n",
    "# current dateTime\n",
    "now = datetime.now()\n",
    "\n",
    "# convert to date String\n",
    "date = now.strftime(\"%d %B %Y\")\n",
    "print('Date String:', date)\n",
    "\n",
    "# convert to time String\n",
    "time = now.strftime(\"%H:%M:%S\")\n",
    "print('Time String:', time)"
   ]
  },
  {
   "cell_type": "code",
   "execution_count": null,
   "metadata": {
    "id": "J_1sXGcUXhcX"
   },
   "outputs": [],
   "source": [
    "import re"
   ]
  },
  {
   "cell_type": "code",
   "execution_count": null,
   "metadata": {
    "colab": {
     "base_uri": "https://localhost:8080/"
    },
    "id": "SMh5T5p1XheQ",
    "outputId": "50f69644-434f-4fdf-b199-f90a1960d5f9"
   },
   "outputs": [
    {
     "name": "stdout",
     "output_type": "stream",
     "text": [
      "python \n",
      "supermacy\n"
     ]
    }
   ],
   "source": [
    "c = 'python \\nsupermacy'\n",
    "print(c)"
   ]
  },
  {
   "cell_type": "code",
   "execution_count": null,
   "metadata": {
    "colab": {
     "base_uri": "https://localhost:8080/"
    },
    "id": "Kw4ZOIYnXhgQ",
    "outputId": "f9831210-cc55-4079-e4a7-c818a01cad2c"
   },
   "outputs": [
    {
     "name": "stdout",
     "output_type": "stream",
     "text": [
      "python\\nsupermacy\n"
     ]
    }
   ],
   "source": [
    "rawc = r'python\\nsupermacy'\n",
    "print(rawc)"
   ]
  },
  {
   "cell_type": "code",
   "execution_count": null,
   "metadata": {
    "id": "gTHs85LzXhiD"
   },
   "outputs": [],
   "source": [
    "# search() function\n",
    "# looks for the first location where the regular expression pattern produces a match\n",
    "# returns a match object"
   ]
  },
  {
   "cell_type": "code",
   "execution_count": null,
   "metadata": {
    "colab": {
     "base_uri": "https://localhost:8080/"
    },
    "id": "H0vScKLxXhju",
    "outputId": "1b76e801-f8ce-467c-97d2-51455e6e0645"
   },
   "outputs": [
    {
     "name": "stdout",
     "output_type": "stream",
     "text": [
      "None\n"
     ]
    }
   ],
   "source": [
    "sequence = 'Universal college of engineering and technology'\n",
    "result = re.search(r'Viva', sequence)\n",
    "print(result)"
   ]
  },
  {
   "cell_type": "code",
   "execution_count": null,
   "metadata": {
    "colab": {
     "base_uri": "https://localhost:8080/"
    },
    "id": "3qfrUokwXhnS",
    "outputId": "c7c5ef75-37cf-4120-abfc-37e7f755cb07"
   },
   "outputs": [
    {
     "name": "stdout",
     "output_type": "stream",
     "text": [
      "<re.Match object; span=(21, 23), match='en'>\n"
     ]
    }
   ],
   "source": [
    "result = re.search(r'en', sequence)\n",
    "print(result)"
   ]
  },
  {
   "cell_type": "code",
   "execution_count": null,
   "metadata": {
    "colab": {
     "base_uri": "https://localhost:8080/"
    },
    "id": "wpq1w9DVhsku",
    "outputId": "95530bf3-475f-42c0-994d-b39476681ad8"
   },
   "outputs": [
    {
     "name": "stdout",
     "output_type": "stream",
     "text": [
      "en\n"
     ]
    }
   ],
   "source": [
    "print(result.group())"
   ]
  },
  {
   "cell_type": "code",
   "execution_count": null,
   "metadata": {
    "id": "-wXPE06vhsuW"
   },
   "outputs": [],
   "source": [
    "# findall() function\n",
    "# Returns all non-overlapping matches of pattern in string, as a list of strings or tuples."
   ]
  },
  {
   "cell_type": "code",
   "execution_count": null,
   "metadata": {
    "colab": {
     "base_uri": "https://localhost:8080/"
    },
    "id": "kuJ7lGAChs3L",
    "outputId": "cc0f35ff-2ded-4671-9cad-cbb35be48178"
   },
   "outputs": [
    {
     "name": "stdout",
     "output_type": "stream",
     "text": [
      "['en']\n"
     ]
    }
   ],
   "source": [
    "result = re.findall(r'en', sequence)\n",
    "print(result)"
   ]
  },
  {
   "cell_type": "code",
   "execution_count": null,
   "metadata": {
    "id": "Huo0ZIITiFgz"
   },
   "outputs": [],
   "source": [
    "# match() function\n",
    "# If zero or more characters at the beginning of string match the regular expression pattern,\n",
    "# returns a corresponding match object."
   ]
  },
  {
   "cell_type": "code",
   "execution_count": null,
   "metadata": {
    "colab": {
     "base_uri": "https://localhost:8080/"
    },
    "id": "QeJ6qsQPiFiR",
    "outputId": "192c246b-db75-4a45-8ae8-bf861e1a976d"
   },
   "outputs": [
    {
     "name": "stdout",
     "output_type": "stream",
     "text": [
      "<re.Match object; span=(0, 3), match='Uni'>\n",
      "Uni\n"
     ]
    }
   ],
   "source": [
    "pattern = r'Uni'\n",
    "sequence = 'Universal college of engineering'\n",
    "result = re.match(pattern, sequence)\n",
    "if result:\n",
    "    print(result)\n",
    "    print(result.group())\n",
    "else:\n",
    "    print(result)"
   ]
  },
  {
   "cell_type": "code",
   "execution_count": null,
   "metadata": {
    "colab": {
     "base_uri": "https://localhost:8080/"
    },
    "id": "_VeQhuv0iFkK",
    "outputId": "7a5734da-10e4-489e-c361-41cf884ae59a"
   },
   "outputs": [
    {
     "name": "stdout",
     "output_type": "stream",
     "text": [
      "None\n"
     ]
    }
   ],
   "source": [
    "pattern = r'Une'\n",
    "sequence = 'Universal college of engineering'\n",
    "result = re.match(pattern, sequence)\n",
    "if result:\n",
    "    print(result)\n",
    "    print(result.group())\n",
    "else:\n",
    "    print(result)"
   ]
  },
  {
   "cell_type": "code",
   "execution_count": null,
   "metadata": {
    "colab": {
     "base_uri": "https://localhost:8080/"
    },
    "id": "X8EtQS8siFlx",
    "outputId": "e6e56093-2b1b-4bf4-8e1e-93602b8f53fa"
   },
   "outputs": [
    {
     "name": "stdout",
     "output_type": "stream",
     "text": [
      "None\n"
     ]
    }
   ],
   "source": [
    "pattern = r'college'\n",
    "sequence = 'Universal college of engineering'\n",
    "result = re.match(pattern, sequence)\n",
    "if result:\n",
    "    print(result)\n",
    "    print(result.group())\n",
    "else:\n",
    "    print(result)"
   ]
  },
  {
   "cell_type": "code",
   "execution_count": null,
   "metadata": {
    "colab": {
     "base_uri": "https://localhost:8080/"
    },
    "id": "x_hKttw8iFpN",
    "outputId": "a7fff75c-860f-45a7-fb35-cddb8148a1a5"
   },
   "outputs": [
    {
     "name": "stdout",
     "output_type": "stream",
     "text": [
      "Won\n"
     ]
    }
   ],
   "source": [
    "# Basic Patterns: Ordinary Characters\n",
    "pattern = r\"Hurray\"\n",
    "sequence = \"Hurray\"\n",
    "if re.match(pattern, sequence):\n",
    "    print(\"Won\")\n",
    "else:\n",
    "    print(\"lose but learnt\")"
   ]
  },
  {
   "cell_type": "code",
   "execution_count": null,
   "metadata": {
    "id": "kqkky4-fjcIJ"
   },
   "outputs": [],
   "source": [
    "# Wild Card Characters: Special Characters\n",
    "# . (Dot.) In the default mode, this matches any character except a newline.\n",
    "# ^ (Caret.) Matches the start of the string\n",
    "# $ Matches the end of the string"
   ]
  },
  {
   "cell_type": "code",
   "execution_count": null,
   "metadata": {
    "colab": {
     "base_uri": "https://localhost:8080/"
    },
    "id": "hEiarGJvjcJH",
    "outputId": "915c1c89-e1ce-4482-903c-209fab7bb4de"
   },
   "outputs": [
    {
     "data": {
      "text/plain": [
       "<re.Match object; span=(0, 6), match='Hurray'>"
      ]
     },
     "execution_count": 54,
     "metadata": {},
     "output_type": "execute_result"
    }
   ],
   "source": [
    "re.search(r'Hu.r.y', 'Hurray')"
   ]
  },
  {
   "cell_type": "code",
   "execution_count": null,
   "metadata": {
    "colab": {
     "base_uri": "https://localhost:8080/",
     "height": 35
    },
    "id": "evCDNgCejcLk",
    "outputId": "dcd303d7-e09c-46fa-9d46-1bf8122fb359"
   },
   "outputs": [
    {
     "data": {
      "application/vnd.google.colaboratory.intrinsic+json": {
       "type": "string"
      },
      "text/plain": [
       "'Hurray'"
      ]
     },
     "execution_count": 57,
     "metadata": {},
     "output_type": "execute_result"
    }
   ],
   "source": [
    "re.search(r'Hu.r.y', 'Hurray').group()"
   ]
  },
  {
   "cell_type": "code",
   "execution_count": null,
   "metadata": {
    "colab": {
     "base_uri": "https://localhost:8080/",
     "height": 35
    },
    "id": "MEhVgxOmjcNo",
    "outputId": "e0af1eb7-7194-4a85-ff1a-a763e5054194"
   },
   "outputs": [
    {
     "data": {
      "application/vnd.google.colaboratory.intrinsic+json": {
       "type": "string"
      },
      "text/plain": [
       "'Jump'"
      ]
     },
     "execution_count": 62,
     "metadata": {},
     "output_type": "execute_result"
    }
   ],
   "source": [
    "re.search(r'^Jump', \"Jump Over!\").group()"
   ]
  },
  {
   "cell_type": "code",
   "execution_count": null,
   "metadata": {
    "colab": {
     "base_uri": "https://localhost:8080/"
    },
    "id": "mLKtraFtku-P",
    "outputId": "8c9e66af-ac98-4e59-ffd7-328377dd7924"
   },
   "outputs": [
    {
     "name": "stdout",
     "output_type": "stream",
     "text": [
      "None\n"
     ]
    }
   ],
   "source": [
    "print(re.search(r'^Over', \"Jump Over wall!\"))"
   ]
  },
  {
   "cell_type": "code",
   "execution_count": null,
   "metadata": {
    "colab": {
     "base_uri": "https://localhost:8080/",
     "height": 35
    },
    "id": "TtEptSZSkvAR",
    "outputId": "b0ae14ad-9765-4ff7-cf05-2074b3b513a3"
   },
   "outputs": [
    {
     "data": {
      "application/vnd.google.colaboratory.intrinsic+json": {
       "type": "string"
      },
      "text/plain": [
       "'wall'"
      ]
     },
     "execution_count": 64,
     "metadata": {},
     "output_type": "execute_result"
    }
   ],
   "source": [
    "re.search(r'wall$', \"wall! Jump Over wall\").group()"
   ]
  },
  {
   "cell_type": "code",
   "execution_count": null,
   "metadata": {
    "colab": {
     "base_uri": "https://localhost:8080/"
    },
    "id": "l1Qrwv4okvDz",
    "outputId": "5adaedf0-a0e1-40c0-e799-8d68e0f808df"
   },
   "outputs": [
    {
     "name": "stdout",
     "output_type": "stream",
     "text": [
      "None\n"
     ]
    }
   ],
   "source": [
    "print(re.search(r'wall$', \"Jump Over the wall!\"))"
   ]
  },
  {
   "cell_type": "code",
   "execution_count": null,
   "metadata": {
    "id": "3DpF6TSLjcRE"
   },
   "outputs": [],
   "source": [
    "# [abc] - Matches a or b or c.\n",
    "# [a-zA-Z0-9] - Matches any letter from (a to z) or (A to Z) or (0 to 9)."
   ]
  },
  {
   "cell_type": "code",
   "execution_count": null,
   "metadata": {
    "colab": {
     "base_uri": "https://localhost:8080/",
     "height": 35
    },
    "id": "m6GToLgdl74L",
    "outputId": "692f61d1-35bd-46ef-cbda-0d72be4d7073"
   },
   "outputs": [
    {
     "data": {
      "application/vnd.google.colaboratory.intrinsic+json": {
       "type": "string"
      },
      "text/plain": [
       "'6'"
      ]
     },
     "execution_count": 67,
     "metadata": {},
     "output_type": "execute_result"
    }
   ],
   "source": [
    "re.search(r'[0-9]', 'Number: 6').group()"
   ]
  },
  {
   "cell_type": "code",
   "execution_count": null,
   "metadata": {
    "colab": {
     "base_uri": "https://localhost:8080/",
     "height": 35
    },
    "id": "kdnT1Tf2l76Z",
    "outputId": "094355f5-c044-49bd-dda9-65eda516ea56"
   },
   "outputs": [
    {
     "data": {
      "application/vnd.google.colaboratory.intrinsic+json": {
       "type": "string"
      },
      "text/plain": [
       "'Number: 2'"
      ]
     },
     "execution_count": 70,
     "metadata": {},
     "output_type": "execute_result"
    }
   ],
   "source": [
    "## Matches any character except 7\n",
    "re.search(r'Number: [^6]', 'Number: 2').group()"
   ]
  },
  {
   "cell_type": "code",
   "execution_count": null,
   "metadata": {
    "colab": {
     "base_uri": "https://localhost:8080/"
    },
    "id": "V4bmBh0Dl78h",
    "outputId": "1a26a2d4-8a18-449e-d3d6-38bf07da2e12"
   },
   "outputs": [
    {
     "name": "stdout",
     "output_type": "stream",
     "text": [
      "None\n"
     ]
    }
   ],
   "source": [
    "## This will not match and hence a NONE value will be returned\n",
    "print(re.search(r'Number: [^8]', 'Number: 8'))"
   ]
  },
  {
   "cell_type": "code",
   "execution_count": null,
   "metadata": {
    "id": "3WNhUvHzl7-L"
   },
   "outputs": [],
   "source": [
    "# Quantifiers in RE\n",
    "# * Causes the resulting RE to match 0 or more repetitions of the preceding RE\n",
    "# + Causes the resulting RE to match 1 or more repetitions of the preceding RE\n",
    "# ? Causes the resulting RE to match 0 or 1 repetitions of the preceding RE"
   ]
  },
  {
   "cell_type": "code",
   "execution_count": null,
   "metadata": {
    "colab": {
     "base_uri": "https://localhost:8080/",
     "height": 35
    },
    "id": "zUxgMdUEl8AI",
    "outputId": "e5f2f77d-9b4d-4939-da6e-1d3286d3cb29"
   },
   "outputs": [
    {
     "data": {
      "application/vnd.google.colaboratory.intrinsic+json": {
       "type": "string"
      },
      "text/plain": [
       "'Oggggy'"
      ]
     },
     "execution_count": 77,
     "metadata": {},
     "output_type": "execute_result"
    }
   ],
   "source": [
    "re.search(r'Og+y', 'Oggggy').group()"
   ]
  },
  {
   "cell_type": "code",
   "execution_count": null,
   "metadata": {
    "colab": {
     "base_uri": "https://localhost:8080/",
     "height": 35
    },
    "id": "GEC9G65Ul8Bh",
    "outputId": "6196fbf3-d55d-4daf-9f4c-0002ded827a3"
   },
   "outputs": [
    {
     "data": {
      "application/vnd.google.colaboratory.intrinsic+json": {
       "type": "string"
      },
      "text/plain": [
       "'Oggy'"
      ]
     },
     "execution_count": 80,
     "metadata": {},
     "output_type": "execute_result"
    }
   ],
   "source": [
    "re.search(r'Oa*g*gy', 'Oggy').group()"
   ]
  },
  {
   "cell_type": "code",
   "execution_count": null,
   "metadata": {
    "colab": {
     "base_uri": "https://localhost:8080/",
     "height": 35
    },
    "id": "rLxvgrrel8E_",
    "outputId": "98793ae7-c382-4716-ba72-17b805844518"
   },
   "outputs": [
    {
     "data": {
      "application/vnd.google.colaboratory.intrinsic+json": {
       "type": "string"
      },
      "text/plain": [
       "'Jacky'"
      ]
     },
     "execution_count": 81,
     "metadata": {},
     "output_type": "execute_result"
    }
   ],
   "source": [
    "re.search(r'Jacka?y', 'Jacky').group()"
   ]
  },
  {
   "cell_type": "code",
   "execution_count": null,
   "metadata": {
    "id": "K0jH5c7Bn81i"
   },
   "outputs": [],
   "source": [
    "# Special sequence characters in RE\n",
    "# \\d: digit\n",
    "# \\w: word character\n",
    "# \\W: non-word character\n",
    "# \\s: whitespace"
   ]
  },
  {
   "cell_type": "code",
   "execution_count": 3,
   "metadata": {
    "colab": {
     "base_uri": "https://localhost:8080/"
    },
    "id": "Js4Y6L3Tn849",
    "outputId": "ff491fd9-8418-4d2e-94de-26d49144b224"
   },
   "outputs": [
    {
     "name": "stdout",
     "output_type": "stream",
     "text": [
      "['@man1!', '@man2&', '@man3$', '@man4%']\n"
     ]
    }
   ],
   "source": [
    "import re\n",
    "\n",
    "special_sequence = '@man1! @man2& appears in man in black @man3$ @man4%'\n",
    "\n",
    "regex = r\"@man\\d\\W\"\n",
    "print(re.findall(regex, special_sequence))"
   ]
  },
  {
   "cell_type": "code",
   "execution_count": 4,
   "metadata": {
    "colab": {
     "base_uri": "https://localhost:8080/"
    },
    "id": "xkVBcjJCn88Z",
    "outputId": "81ee210b-b11d-4f6d-b310-1df86fe240c9"
   },
   "outputs": [
    {
     "name": "stdout",
     "output_type": "stream",
     "text": [
      "['User_mentions:4']\n",
      "['likes: 9']\n",
      "['number of retweets: 7']\n"
     ]
    }
   ],
   "source": [
    "sentiment_analysis = \"The movie called interception is the best sci-fi movie ever. User_mentions:4, likes: 9, number of retweets: 7\"\n",
    "print(re.findall(r\"User_mentions:\\d\", sentiment_analysis))\n",
    "print(re.findall(r\"likes:\\s\\d\", sentiment_analysis))\n",
    "print(re.findall(r\"number\\sof\\sretweets:\\s\\d\", sentiment_analysis))"
   ]
  },
  {
   "cell_type": "code",
   "execution_count": null,
   "metadata": {
    "id": "PGBZm5Qyn898"
   },
   "outputs": [],
   "source": [
    "# split() function\n",
    "# Split string by the occurrences of pattern."
   ]
  },
  {
   "cell_type": "code",
   "execution_count": 5,
   "metadata": {
    "colab": {
     "base_uri": "https://localhost:8080/"
    },
    "id": "ltFfSZqFn8_w",
    "outputId": "c012afac-3381-458a-e52d-3eeac9215e9b"
   },
   "outputs": [
    {
     "name": "stdout",
     "output_type": "stream",
     "text": [
      "Scientist: Newton , Einstine , Kepler , Alva edison , Alexendra bell\n"
     ]
    }
   ],
   "source": [
    "sequence = \"Newton , Einstine , Kepler , Alva edison , Alexendra bell\"\n",
    "print(\"Scientist:\", sequence)"
   ]
  },
  {
   "cell_type": "code",
   "execution_count": 6,
   "metadata": {
    "colab": {
     "base_uri": "https://localhost:8080/"
    },
    "id": "l5qXlE7Zn9BU",
    "outputId": "697d89ed-0971-4711-8037-9bd550eb6a0d"
   },
   "outputs": [
    {
     "name": "stdout",
     "output_type": "stream",
     "text": [
      "['Newton ', ' Einstine ', ' Kepler ', ' Alva edison ', ' Alexendra bell']\n"
     ]
    }
   ],
   "source": [
    "result = re.split(',', sequence)\n",
    "print(result) # result contains leading spaces"
   ]
  },
  {
   "cell_type": "code",
   "execution_count": 7,
   "metadata": {
    "colab": {
     "base_uri": "https://localhost:8080/"
    },
    "id": "hci5qY4dn9Es",
    "outputId": "71b705cd-01ac-4dea-c457-c3ead80a57ff"
   },
   "outputs": [
    {
     "name": "stdout",
     "output_type": "stream",
     "text": [
      "['Newton', 'Einstine', 'Kepler', 'Alva', 'edison', 'Alexendra', 'bell']\n"
     ]
    }
   ],
   "source": [
    "result = re.split('\\W+', sequence) # result without leading spaces but splits names too\n",
    "print(result)"
   ]
  },
  {
   "cell_type": "code",
   "execution_count": 8,
   "metadata": {
    "colab": {
     "base_uri": "https://localhost:8080/"
    },
    "id": "hG05vmc0Xhcf",
    "outputId": "cc5d885c-a197-461c-d6c2-2bf0327463c0"
   },
   "outputs": [
    {
     "name": "stdout",
     "output_type": "stream",
     "text": [
      "['Newton ', 'Einstine ', 'Kepler ', 'Alva edison ', 'Alexendra bell']\n"
     ]
    }
   ],
   "source": [
    "result = re.split(',\\W+', sequence) # result without leading spaces\n",
    "print(result)"
   ]
  },
  {
   "cell_type": "code",
   "execution_count": null,
   "metadata": {
    "id": "1rWGeL8tXhfy"
   },
   "outputs": [],
   "source": [
    "# sub() function\n",
    "# Substitute a regex with another sequence"
   ]
  },
  {
   "cell_type": "code",
   "execution_count": 11,
   "metadata": {
    "colab": {
     "base_uri": "https://localhost:8080/"
    },
    "id": "_p-3vgeEXhja",
    "outputId": "2d591ba0-a444-48d6-b6dd-c8cecbc0ff29"
   },
   "outputs": [
    {
     "name": "stdout",
     "output_type": "stream",
     "text": [
      "They #knew% that they are in a$ do or die situation. #8break%Choose&new Wisely@\n",
      "They #knew% that they are in a$ do or die situation.  Choose&new Wisely@\n",
      "They #knew% that they are in a$ do or die situation.  Choose&new Wisely@\n"
     ]
    }
   ],
   "source": [
    "sentiment_analysis = 'They #knew% that they are in a$ do or die situation. #8break%Choose&new Wisely@'\n",
    "print(sentiment_analysis)\n",
    "\n",
    "# Write a regex to match pattern separating sentences\n",
    "regex_sentence = r\"\\W\\dbreak\\W\"\n",
    "\n",
    "# Replace the regex_sentence with a space\n",
    "sentiment_sub = re.sub(regex_sentence, \" \", sentiment_analysis)\n",
    "print(sentiment_sub)\n",
    "\n",
    "# Write a regex to match pattern separating words\n",
    "regex_words = r\"\\Wnew\\w\"\n",
    "\n",
    "# Replace the regex_words and print the result\n",
    "sentiment_final = re.sub(regex_words, ' ', sentiment_sub)\n",
    "print(sentiment_final)"
   ]
  },
  {
   "cell_type": "code",
   "execution_count": null,
   "metadata": {
    "id": "6pZ0pHEdXhmA"
   },
   "outputs": [],
   "source": [
    "# Repetitions\n",
    "# {x}   - Repeat exactly x number of times.\n",
    "# {x,}  - Repeat at least x times or more.\n",
    "# {x,y} - Repeat at least x times but no more than y times."
   ]
  },
  {
   "cell_type": "code",
   "execution_count": 18,
   "metadata": {
    "colab": {
     "base_uri": "https://localhost:8080/",
     "height": 35
    },
    "id": "Qwn7X1FdXho2",
    "outputId": "1b7890c1-82ef-418a-81b3-16f6050c7e01"
   },
   "outputs": [
    {
     "data": {
      "application/vnd.google.colaboratory.intrinsic+json": {
       "type": "string"
      },
      "text/plain": [
       "'09876'"
      ]
     },
     "execution_count": 18,
     "metadata": {},
     "output_type": "execute_result"
    }
   ],
   "source": [
    "re.search(r'\\d{5}', '09876').group()"
   ]
  },
  {
   "cell_type": "code",
   "execution_count": 22,
   "metadata": {
    "colab": {
     "base_uri": "https://localhost:8080/",
     "height": 35
    },
    "id": "SoBBbiaRXhrN",
    "outputId": "99e2407f-89fb-47ce-b3f7-2be10e968980"
   },
   "outputs": [
    {
     "data": {
      "application/vnd.google.colaboratory.intrinsic+json": {
       "type": "string"
      },
      "text/plain": [
       "'3248534285'"
      ]
     },
     "execution_count": 22,
     "metadata": {},
     "output_type": "execute_result"
    }
   ],
   "source": [
    "re.search(r'\\d{10}', '3248534285').group()"
   ]
  },
  {
   "cell_type": "code",
   "execution_count": 21,
   "metadata": {
    "colab": {
     "base_uri": "https://localhost:8080/",
     "height": 35
    },
    "id": "-KSBh0EkXhtd",
    "outputId": "cf0e5d3d-2ff1-45b1-d245-dae1e24970ff"
   },
   "outputs": [
    {
     "data": {
      "application/vnd.google.colaboratory.intrinsic+json": {
       "type": "string"
      },
      "text/plain": [
       "'345348567589'"
      ]
     },
     "execution_count": 21,
     "metadata": {},
     "output_type": "execute_result"
    }
   ],
   "source": [
    "re.search(r'\\d{6,}', '345348567589').group()"
   ]
  },
  {
   "cell_type": "code",
   "execution_count": 24,
   "metadata": {
    "colab": {
     "base_uri": "https://localhost:8080/"
    },
    "id": "JCGwT_PmXhwu",
    "outputId": "84f603ed-fcf6-4775-94cc-a424f9202950"
   },
   "outputs": [
    {
     "name": "stdout",
     "output_type": "stream",
     "text": [
      "None\n"
     ]
    }
   ],
   "source": [
    "result = re.search(r'\\d{17,}', 't79485459')\n",
    "print(result)"
   ]
  },
  {
   "cell_type": "code",
   "execution_count": 27,
   "metadata": {
    "colab": {
     "base_uri": "https://localhost:8080/",
     "height": 35
    },
    "id": "0LAdS6ghYrCx",
    "outputId": "2bcf7804-0143-465d-d1cb-bb135378ab0a"
   },
   "outputs": [
    {
     "data": {
      "application/vnd.google.colaboratory.intrinsic+json": {
       "type": "string"
      },
      "text/plain": [
       "'9817324709785'"
      ]
     },
     "execution_count": 27,
     "metadata": {},
     "output_type": "execute_result"
    }
   ],
   "source": [
    "re.search(r'\\d{10,14}', '9817324709785').group()"
   ]
  },
  {
   "cell_type": "code",
   "execution_count": 28,
   "metadata": {
    "colab": {
     "base_uri": "https://localhost:8080/",
     "height": 35
    },
    "id": "nhpkAvWwYrGF",
    "outputId": "0cd395e1-c5fa-4e30-e313-910d6238c020"
   },
   "outputs": [
    {
     "data": {
      "application/vnd.google.colaboratory.intrinsic+json": {
       "type": "string"
      },
      "text/plain": [
       "'283756187940'"
      ]
     },
     "execution_count": 28,
     "metadata": {},
     "output_type": "execute_result"
    }
   ],
   "source": [
    "re.search(r'\\d{12,14}', '283756187940').group() # no leading 0 in the sequence"
   ]
  },
  {
   "cell_type": "code",
   "execution_count": 30,
   "metadata": {
    "colab": {
     "base_uri": "https://localhost:8080/"
    },
    "id": "4YvakQn6YrIU",
    "outputId": "f5db66b6-8b54-4134-9613-4eeb9b6a5aed"
   },
   "outputs": [
    {
     "name": "stdout",
     "output_type": "stream",
     "text": [
      "15:00:30\n",
      "05:00:20\n"
     ]
    }
   ],
   "source": [
    "from datetime import datetime\n",
    "\n",
    "def convert24(time):\n",
    "\t# Parse the time string into a datetime object\n",
    "\tt = datetime.strptime(time, '%I:%M:%S %p')\n",
    "\t# Format the datetime object into a 24-hour time string\n",
    "\treturn t.strftime('%H:%M:%S')\n",
    "\n",
    "print(convert24('3:00:30 PM')) \n",
    "print(convert24('5:00:20 AM')) \n"
   ]
  },
  {
   "cell_type": "code",
   "execution_count": null,
   "metadata": {
    "id": "B3DEq4aBYrLl"
   },
   "outputs": [],
   "source": []
  }
 ],
 "metadata": {
  "colab": {
   "provenance": []
  },
  "kernelspec": {
   "display_name": "Python 3 (ipykernel)",
   "language": "python",
   "name": "python3"
  },
  "language_info": {
   "codemirror_mode": {
    "name": "ipython",
    "version": 3
   },
   "file_extension": ".py",
   "mimetype": "text/x-python",
   "name": "python",
   "nbconvert_exporter": "python",
   "pygments_lexer": "ipython3",
   "version": "3.9.13"
  }
 },
 "nbformat": 4,
 "nbformat_minor": 4
}
