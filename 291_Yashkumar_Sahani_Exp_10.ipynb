{
 "cells": [
  {
   "cell_type": "markdown",
   "id": "695a5fd3",
   "metadata": {},
   "source": [
    "# # Experiment 10\n",
    "## Exploring basics of NumPy Methods\n",
    "### a) Create numpy arrays using various methods"
   ]
  },
  {
   "cell_type": "code",
   "execution_count": 2,
   "id": "cf8450e9",
   "metadata": {},
   "outputs": [],
   "source": [
    "# import numpy\n",
    "import numpy as np"
   ]
  },
  {
   "cell_type": "code",
   "execution_count": 11,
   "id": "9a202953",
   "metadata": {},
   "outputs": [
    {
     "name": "stdout",
     "output_type": "stream",
     "text": [
      "<class 'numpy.ndarray'>\n",
      "5\n",
      "[ 5 10 15 20 25]\n"
     ]
    }
   ],
   "source": [
    "# create numpy array using array()\n",
    "arr1 = np.array([5, 10, 15, 20, 25])\n",
    "print(type(arr1))\n",
    "print(len(arr1))\n",
    "print(arr1)"
   ]
  },
  {
   "cell_type": "code",
   "execution_count": 12,
   "id": "32c59353",
   "metadata": {},
   "outputs": [
    {
     "name": "stdout",
     "output_type": "stream",
     "text": [
      "6\n",
      "[ 5.  7.  9. 11. 13. 15.]\n"
     ]
    }
   ],
   "source": [
    "# create numpy array using linspace()\n",
    "# linspace(start, stop, n)\n",
    "arr2 = np.linspace(5, 15, 6)\n",
    "print(len(arr2))\n",
    "print(arr2)"
   ]
  },
  {
   "cell_type": "code",
   "execution_count": 15,
   "id": "aeb237e8",
   "metadata": {},
   "outputs": [
    {
     "name": "stdout",
     "output_type": "stream",
     "text": [
      "2\n",
      "[100.   1.]\n"
     ]
    }
   ],
   "source": [
    "# create numpy array using logspace()\n",
    "# logspace(start, stop, n)\n",
    "arr3 = np.logspace(2, 0, 2)\n",
    "print(len(arr3))\n",
    "print(arr3)"
   ]
  },
  {
   "cell_type": "code",
   "execution_count": 17,
   "id": "217781ec",
   "metadata": {},
   "outputs": [
    {
     "name": "stdout",
     "output_type": "stream",
     "text": [
      "10\n",
      "[ 3  6  9 12 15 18 21 24 27 30]\n"
     ]
    }
   ],
   "source": [
    "# create numpy array using arange()\n",
    "# arange(start, stop, stepsize)\n",
    "arr4 = np.arange(3, 33, 3)\n",
    "print(len(arr4))\n",
    "print(arr4)"
   ]
  },
  {
   "cell_type": "code",
   "execution_count": 18,
   "id": "6324c183",
   "metadata": {},
   "outputs": [
    {
     "name": "stdout",
     "output_type": "stream",
     "text": [
      "[0. 0. 0. 0.]\n",
      "[0. 0. 0. 0.]\n",
      "[0 0 0 0]\n"
     ]
    }
   ],
   "source": [
    "# create numpy arrays using zeros() and ones()\n",
    "arr5 = np.zeros(4)\n",
    "print(arr5)\n",
    "\n",
    "arr6 = np.zeros(4, float)\n",
    "print(arr6)\n",
    "\n",
    "arr7 = np.zeros(4, int)\n",
    "print(arr7)"
   ]
  },
  {
   "cell_type": "code",
   "execution_count": 19,
   "id": "6915c281",
   "metadata": {},
   "outputs": [
    {
     "name": "stdout",
     "output_type": "stream",
     "text": [
      "[1. 1. 1. 1.]\n",
      "[1. 1. 1. 1.]\n",
      "[1 1 1 1]\n"
     ]
    }
   ],
   "source": [
    "arr5 = np.ones(4)\n",
    "print(arr5)\n",
    "\n",
    "arr6 = np.ones(4, float)\n",
    "print(arr6)\n",
    "\n",
    "arr7 = np.ones(4, int)\n",
    "print(arr7)"
   ]
  },
  {
   "cell_type": "markdown",
   "id": "dd2ceaf7",
   "metadata": {},
   "source": [
    "### b) Find sum, min, max, mean, median, stddev of numpy array"
   ]
  },
  {
   "cell_type": "code",
   "execution_count": 20,
   "id": "1752c0c0",
   "metadata": {},
   "outputs": [
    {
     "name": "stdout",
     "output_type": "stream",
     "text": [
      "[  0   5  10  15  20  25  30  35  40  45  50  55  60  65  70  75  80  85\n",
      "  90  95 100 105 110 115 120 125 130 135 140 145 150 155 160 165 170 175\n",
      " 180 185 190 195]\n",
      "Sum:  3900\n",
      "Min:  0\n",
      "Max:  195\n",
      "Mean:  97.5\n",
      "Median:  97.5\n",
      "Standard deviation:  57.716981903075975\n"
     ]
    }
   ],
   "source": [
    "import numpy as np\n",
    "\n",
    "# create numpy array\n",
    "int_arr = np.arange(0, 200, 5)\n",
    "print(int_arr)\n",
    "\n",
    "print(\"Sum: \", np.sum(int_arr))\n",
    "print(\"Min: \", np.min(int_arr))\n",
    "print(\"Max: \", np.max(int_arr))\n",
    "print(\"Mean: \", np.mean(int_arr))\n",
    "print(\"Median: \", np.median(int_arr))\n",
    "print(\"Standard deviation: \", np.std(int_arr))"
   ]
  },
  {
   "cell_type": "code",
   "execution_count": 23,
   "id": "8fbba515",
   "metadata": {},
   "outputs": [
    {
     "name": "stdout",
     "output_type": "stream",
     "text": [
      "[2.02 2.13 2.14 2.   1.99]\n",
      "Sum:  10.280000000000001\n",
      "Min:  1.99\n",
      "Max:  2.14\n",
      "Mean:  2.056\n",
      "Median:  2.02\n",
      "Standard deviation:  0.06529931086925804\n"
     ]
    }
   ],
   "source": [
    "float_arr = np.array([2.02, 2.13, 2.14, 2.00, 1.99])\n",
    "print(float_arr)\n",
    "\n",
    "print(\"Sum: \", np.sum(float_arr))\n",
    "print(\"Min: \", np.min(float_arr))\n",
    "print(\"Max: \", np.max(float_arr))\n",
    "print(\"Mean: \", np.mean(float_arr))\n",
    "print(\"Median: \", np.median(float_arr))\n",
    "print(\"Standard deviation: \", np.std(float_arr))"
   ]
  }
 ],
 "metadata": {
  "kernelspec": {
   "display_name": "Python 3 (ipykernel)",
   "language": "python",
   "name": "python3"
  },
  "language_info": {
   "codemirror_mode": {
    "name": "ipython",
    "version": 3
   },
   "file_extension": ".py",
   "mimetype": "text/x-python",
   "name": "python",
   "nbconvert_exporter": "python",
   "pygments_lexer": "ipython3",
   "version": "3.9.13"
  }
 },
 "nbformat": 4,
 "nbformat_minor": 5
}
