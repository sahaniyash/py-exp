{
 "cells": [
  {
   "cell_type": "code",
   "execution_count": 12,
   "metadata": {
    "colab": {
     "base_uri": "https://localhost:8080/"
    },
    "id": "bt_N4PRtGDL3",
    "outputId": "38a2b5b5-d358-41e6-9cb8-fa29aa774c4f"
   },
   "outputs": [
    {
     "name": "stdout",
     "output_type": "stream",
     "text": [
      "Output of Readlines after appending\n",
      "This is Delhi \n",
      "This is Paris \n",
      "This is Londonbaby \n",
      "\n",
      "\n",
      "Output of Readlines after writing\n",
      "past \n",
      "\n",
      "\n"
     ]
    }
   ],
   "source": [
    "\n",
    "file1 = open(\"myfile.txt\", \"w\")\n",
    "L = [\"This is Delhi \\n\", \"This is Paris \\n\", \"This is London\"]\n",
    "file1.writelines(L)\n",
    "file1.close()\n",
    " \n",
    "# Append-adds at last\n",
    "file1 = open(\"myfile.txt\", \"a\")  # append mode\n",
    "file1.write(\"baby \\n\")\n",
    "file1.close()\n",
    " \n",
    "file1 = open(\"myfile.txt\", \"r\")\n",
    "print(\"Output of Readlines after appending\")\n",
    "print(file1.read())\n",
    "print()\n",
    "file1.close()\n",
    " \n",
    "# Write-Overwrites\n",
    "file1 = open(\"myfile.txt\", \"w\")  # write mode\n",
    "file1.write(\"past \\n\")\n",
    "file1.close()\n",
    " \n",
    "file1 = open(\"myfile.txt\", \"r\")\n",
    "print(\"Output of Readlines after writing\")\n",
    "print(file1.read())\n",
    "print()\n",
    "file1.close()"
   ]
  },
  {
   "cell_type": "code",
   "execution_count": 9,
   "metadata": {
    "colab": {
     "base_uri": "https://localhost:8080/"
    },
    "id": "WGSnC-uMK4-A",
    "outputId": "4baf86f9-9f6e-4312-d509-138e3377e203"
   },
   "outputs": [
    {
     "name": "stdout",
     "output_type": "stream",
     "text": [
      "line count:  1\n",
      "word count:  1\n",
      "character count:  4\n"
     ]
    }
   ],
   "source": [
    "filename = \"myfile.txt\"\n",
    "\n",
    "# init count\n",
    "lines = 0\n",
    "words = 0\n",
    "characters = 0\n",
    "\n",
    "# read file one line at a time\n",
    "with open(filename, 'r') as f:\n",
    "    for line in f:\n",
    "        tokens = line.split()\n",
    "        lines += 1\n",
    "        words += len(tokens)\n",
    "        characters += len(line)\n",
    "\n",
    "print(\"line count: \", lines)\n",
    "print(\"word count: \", words)\n",
    "print(\"character count: \", characters)"
   ]
  },
  {
   "cell_type": "code",
   "execution_count": 7,
   "metadata": {
    "colab": {
     "base_uri": "https://localhost:8080/"
    },
    "id": "Dt9becG0K6nI",
    "outputId": "06b05182-1487-4a93-d251-3f4c4a95da12"
   },
   "outputs": [
    {
     "name": "stdout",
     "output_type": "stream",
     "text": [
      "['.config', 'myfile.txt', 'sample.txt', 'sample_data']\n",
      "['myfile.txt', 'sample.txt']\n"
     ]
    }
   ],
   "source": [
    "import os\n",
    "\n",
    "# os.system('ls') by directly executing system command (OS specific)\n",
    "\n",
    "# display all\n",
    "lst = os.listdir()\n",
    "print(lst)\n",
    "\n",
    "# display only files\n",
    "lst = os.listdir()\n",
    "lst = [f for f in lst if os.path.isfile(f)] # list comprehension\n",
    "print(lst)\n",
    "\n",
    "# # alternatively can be simplified as\n",
    "# lst = os.listdir()\n",
    "# filelist = []\n",
    "# for f in lst:\n",
    "#     if os.path.isfile(f):\n",
    "#         filelist.append(f)\n",
    "# print(filelist)"
   ]
  }
 ],
 "metadata": {
  "colab": {
   "provenance": []
  },
  "kernelspec": {
   "display_name": "Python 3 (ipykernel)",
   "language": "python",
   "name": "python3"
  },
  "language_info": {
   "codemirror_mode": {
    "name": "ipython",
    "version": 3
   },
   "file_extension": ".py",
   "mimetype": "text/x-python",
   "name": "python",
   "nbconvert_exporter": "python",
   "pygments_lexer": "ipython3",
   "version": "3.9.13"
  }
 },
 "nbformat": 4,
 "nbformat_minor": 4
}
