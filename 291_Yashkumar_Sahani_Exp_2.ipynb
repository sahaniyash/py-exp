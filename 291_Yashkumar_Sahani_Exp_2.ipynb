{
 "cells": [
  {
   "cell_type": "code",
   "execution_count": null,
   "metadata": {
    "colab": {
     "base_uri": "https://localhost:8080/"
    },
    "id": "k7RGW9QZ8ihK",
    "outputId": "a5ea57cc-5578-4e37-e603-d04121965030"
   },
   "outputs": [
    {
     "name": "stdout",
     "output_type": "stream",
     "text": [
      "Enter a number: 407\n",
      "407 is an Armstrong number\n"
     ]
    }
   ],
   "source": [
    "# function\n",
    "\n",
    "n = int(input(\"Enter a number: \"))\n",
    "\n",
    "\n",
    "\n",
    "#initialize the sum\n",
    "\n",
    "s = 0\n",
    "\n",
    "t = n\n",
    "\n",
    "while t > 0:\n",
    "\n",
    "   digit = t % 10\n",
    "\n",
    "   s += digit ** 3\n",
    "\n",
    "   t //= 10\n",
    "\n",
    "\n",
    "\n",
    "# display the result\n",
    "\n",
    "if n == s:\n",
    "\n",
    "   print(n,\"is an Armstrong number\")\n",
    "\n",
    "else:\n",
    "\n",
    "   print(n,\"is not an Armstrong number\")\n"
   ]
  },
  {
   "cell_type": "code",
   "execution_count": null,
   "metadata": {
    "colab": {
     "base_uri": "https://localhost:8080/"
    },
    "id": "hY3CUh-M-4Sd",
    "outputId": "58cca007-c055-477a-a5e7-66cd67225aae"
   },
   "outputs": [
    {
     "name": "stdout",
     "output_type": "stream",
     "text": [
      "45\n",
      "65536\n",
      "64\n"
     ]
    }
   ],
   "source": [
    "def power(base, exp = 1):\n",
    "    return base ** exp\n",
    "\n",
    "print(power(45))\n",
    "print(power(4, 8))\n",
    "print(power(8, 2))"
   ]
  },
  {
   "cell_type": "code",
   "execution_count": null,
   "metadata": {
    "colab": {
     "base_uri": "https://localhost:8080/"
    },
    "id": "gqCplJ7wBEVr",
    "outputId": "a69fe3ff-0714-42dc-bd91-be57c73076da"
   },
   "outputs": [
    {
     "name": "stdout",
     "output_type": "stream",
     "text": [
      "harward\n",
      "harwardanthonymarkhenryselmon\n"
     ]
    }
   ],
   "source": [
    "# Define gibberish\n",
    "def gibberish(*args):\n",
    "    \"\"\"Concatenate strings in *args together.\"\"\"\n",
    "\n",
    "    # Initialize an empty string: hodgepodge\n",
    "    hodgepodge = \"\"\n",
    "\n",
    "    # Concatenate the strings in args\n",
    "    for word in args:\n",
    "        hodgepodge += word\n",
    "\n",
    "    # Return hodgepodge\n",
    "    return hodgepodge\n",
    "\n",
    "# Call gibberish() with one string: one_word\n",
    "single_word = gibberish(\"harward\")\n",
    "\n",
    "# Call gibberish() with five strings: many_words\n",
    "multiple_words = gibberish(\"harward\", \"anthony\", \"mark\", \"henry\", \"selmon\")\n",
    "\n",
    "# Print one_word and many_words\n",
    "print(single_word)\n",
    "print(multiple_words)"
   ]
  },
  {
   "cell_type": "code",
   "execution_count": 1,
   "metadata": {
    "colab": {
     "base_uri": "https://localhost:8080/"
    },
    "id": "EdvX7v1PB9ys",
    "outputId": "9993b13e-e6bc-4ecd-e91f-3bdc11e1a6d1"
   },
   "outputs": [
    {
     "name": "stdout",
     "output_type": "stream",
     "text": [
      "<class '__main__.Dog'>\n",
      "<__main__.Dog object at 0x7f8d00040c70>\n",
      "\n",
      "Name:  \n",
      "Dog playing wild\n",
      "<class '__main__.Dog'>\n",
      "<__main__.Dog object at 0x7f8d00040d60>\n",
      "hugo\n",
      "Name:  hugo\n",
      "Dog playing wild\n",
      "Dog having his food\n",
      "Animals are sleeping\n",
      "<class '__main__.Tiger'>\n",
      "Age:  14\n",
      "Height:  5.7\n",
      "Weight:  100\n",
      "Animal eating food\n",
      "Animals are sleeping\n"
     ]
    }
   ],
   "source": [
    "# Animal\n",
    "class Animal:\n",
    "    def __init__(self, age = 14, height = 5.7, weight = 100):\n",
    "        self.age = age\n",
    "        self.height = height\n",
    "        self.weight = weight\n",
    "        \n",
    "    def eat(self):\n",
    "        print(\"Animal eating food\")\n",
    "        \n",
    "    def sleep(self):\n",
    "        print(\"Animals are sleeping\")\n",
    "        \n",
    "    def display(self):\n",
    "        print(\"Age: \", self.age)\n",
    "        print(\"Height: \", self.height)\n",
    "        print(\"Weight: \", self.weight)\n",
    "\n",
    "class Dog(Animal):    \n",
    "    def __init__(self, age = 14, height = 5.7, weight = 100, name = ''):\n",
    "        Animal.__init__(self, age, height, weight) # one way of calling super class method\n",
    "        self.name = name\n",
    "        \n",
    "    def play(self):\n",
    "        print(\"Dog playing wild\")\n",
    "        \n",
    "    def eat(self):\n",
    "        print(\"Dog having his food\")\n",
    "        \n",
    "    def display(self):\n",
    "        print(\"Name: \", self.name)\n",
    "        super().display # another way of calling super class method; DO NOT pass self as an argument when using super()\n",
    "\n",
    "class Tiger(Animal):\n",
    "    pass\n",
    "        \n",
    "\n",
    "# Make some objects\n",
    "d1 = Dog()\n",
    "print(type(d1))\n",
    "print(d1)\n",
    "print(d1.name)\n",
    "d1.display()\n",
    "d1.play()\n",
    "\n",
    "d2 = Dog(2, 2.3, 35, \"hugo\")\n",
    "print(type(d2))\n",
    "print(d2)\n",
    "print(d2.name)\n",
    "d2.display()\n",
    "d2.play()\n",
    "d2.eat()\n",
    "d2.sleep()\n",
    "\n",
    "t1 = Tiger()\n",
    "print(type(t1))\n",
    "t1.display()\n",
    "t1.eat()\n",
    "t1.sleep()\n",
    "# t1.play() # ERROR"
   ]
  },
  {
   "cell_type": "code",
   "execution_count": null,
   "metadata": {
    "id": "5D_rc-qvDKlt"
   },
   "outputs": [],
   "source": [
    "try executing the code as-is,\n",
    "- if ZeroDivisionError occurs, print \"Cannot divide by zero!\",\n",
    "- if IndexError occurs, print \"Index out of range!\""
   ]
  },
  {
   "cell_type": "code",
   "execution_count": null,
   "metadata": {
    "id": "NkVE9aDnDnHq"
   },
   "outputs": [],
   "source": [
    "# MODIFY the function to catch exceptions\n",
    "def invert_at_index(x, ind):\n",
    "        return 1/x[ind]\n",
    "\n",
    "s = [1,2,3,4]\n",
    "\n",
    "# Works okay\n",
    "print(invert_at_index(s, 4))\n",
    "\n",
    "# Potential ZeroDivisionError\n",
    "print(invert_at_index(s, 3))\n",
    "\n",
    "# Potential IndexError\n",
    "print(invert_at_index(s, 9))\""
   ]
  },
  {
   "cell_type": "code",
   "execution_count": 5,
   "metadata": {
    "colab": {
     "base_uri": "https://localhost:8080/"
    },
    "id": "yI_nqIBGDXq4",
    "outputId": "80659373-db66-4c05-823e-b2816fea55ae"
   },
   "outputs": [
    {
     "name": "stdout",
     "output_type": "stream",
     "text": [
      "0.14285714285714285\n",
      "Index out of range!\n",
      "None\n",
      "Index out of range!\n",
      "None\n"
     ]
    }
   ],
   "source": [
    "# MODIFY the function to catch exceptions\n",
    "def invert_at_index(x, ind):\n",
    "    try:\n",
    "        return 1/x[ind]\n",
    "    except ZeroDivisionError:\n",
    "        print(\"Cannot divide by zero!\")\n",
    "    except IndexError:\n",
    "        print(\"Index out of range!\")\n",
    "\n",
    "s = [3,5,7,9]\n",
    "\n",
    "# Works okay\n",
    "print(invert_at_index(s, 2))\n",
    "\n",
    "# Potential ZeroDivisionError\n",
    "print(invert_at_index(s, 4))\n",
    "\n",
    "# Potential IndexError\n",
    "print(invert_at_index(s, 5))\n"
   ]
  },
  {
   "cell_type": "code",
   "execution_count": null,
   "metadata": {
    "id": "OSqZlpr2EMUI"
   },
   "outputs": [],
   "source": []
  }
 ],
 "metadata": {
  "colab": {
   "provenance": []
  },
  "kernelspec": {
   "display_name": "Python 3 (ipykernel)",
   "language": "python",
   "name": "python3"
  },
  "language_info": {
   "codemirror_mode": {
    "name": "ipython",
    "version": 3
   },
   "file_extension": ".py",
   "mimetype": "text/x-python",
   "name": "python",
   "nbconvert_exporter": "python",
   "pygments_lexer": "ipython3",
   "version": "3.9.13"
  }
 },
 "nbformat": 4,
 "nbformat_minor": 4
}
