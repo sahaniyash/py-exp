{
 "cells": [
  {
   "cell_type": "markdown",
   "id": "cc38ee87",
   "metadata": {},
   "source": [
    "# Experiment 12\n",
    "## Data Series and Data Frames using Pandas\n",
    "### a) Program to create and index (loc, iloc), and iterate over pandas DataFrame"
   ]
  },
  {
   "cell_type": "code",
   "execution_count": 39,
   "id": "d3865f75",
   "metadata": {
    "scrolled": true
   },
   "outputs": [
    {
     "name": "stdout",
     "output_type": "stream",
     "text": [
      "                region                 state  individuals  family_members  \\\n",
      "0   East South Central               Alabama       2570.0           864.0   \n",
      "1              Pacific                Alaska       1434.0           582.0   \n",
      "2             Mountain               Arizona       7259.0          2606.0   \n",
      "3   West South Central              Arkansas       2280.0           432.0   \n",
      "4              Pacific            California     109008.0         20964.0   \n",
      "5             Mountain              Colorado       7607.0          3250.0   \n",
      "6          New England           Connecticut       2280.0          1696.0   \n",
      "7       South Atlantic              Delaware        708.0           374.0   \n",
      "8       South Atlantic  District of Columbia       3770.0          3134.0   \n",
      "9       South Atlantic               Florida      21443.0          9587.0   \n",
      "10      South Atlantic               Georgia       6943.0          2556.0   \n",
      "\n",
      "    state_pop  \n",
      "0     4887681  \n",
      "1      735139  \n",
      "2     7158024  \n",
      "3     3009733  \n",
      "4    39461588  \n",
      "5     5691287  \n",
      "6     3571520  \n",
      "7      965479  \n",
      "8      701547  \n",
      "9    21244317  \n",
      "10   10511131  \n"
     ]
    }
   ],
   "source": [
    "import pandas as pd\n",
    "\n",
    "# create a DataFrame\n",
    "df = pd.DataFrame([\n",
    "        [\"East South Central\", \"Alabama\", 2570.0, 864.0, 4887681],\n",
    "        [\"Pacific\",\"Alaska\",1434.0,582.0,735139],\n",
    "        [\"Mountain\",\"Arizona\",7259.0,2606.0,7158024],\n",
    "        [\"West South Central\",\"Arkansas\",2280.0,432.0,3009733],\n",
    "        [\"Pacific\",\"California\",109008.0,20964.0,39461588],\n",
    "        [\"Mountain\",\"Colorado\",7607.0,3250.0,5691287],\n",
    "        [\"New England\",\"Connecticut\",2280.0,1696.0,3571520],\n",
    "        [\"South Atlantic\",\"Delaware\",708.0,374.0,965479],\n",
    "        [\"South Atlantic\",\"District of Columbia\",3770.0,3134.0,701547],\n",
    "        [\"South Atlantic\",\"Florida\",21443.0,9587.0,21244317],\n",
    "        [\"South Atlantic\",\"Georgia\",6943.0,2556.0,10511131]\n",
    "    ],\n",
    "    columns = [\"region\",\"state\",\"individuals\",\"family_members\",\"state_pop\"]\n",
    ")\n",
    "\n",
    "print(df)"
   ]
  },
  {
   "cell_type": "code",
   "execution_count": 40,
   "id": "9f9d21f9",
   "metadata": {
    "scrolled": true
   },
   "outputs": [
    {
     "name": "stdout",
     "output_type": "stream",
     "text": [
      "               region       state  individuals  family_members  state_pop\n",
      "2            Mountain     Arizona       7259.0          2606.0    7158024\n",
      "3  West South Central    Arkansas       2280.0           432.0    3009733\n",
      "4             Pacific  California     109008.0         20964.0   39461588\n"
     ]
    }
   ],
   "source": [
    "# indexing\n",
    "print(df[2:5])"
   ]
  },
  {
   "cell_type": "code",
   "execution_count": 41,
   "id": "1128f9cc",
   "metadata": {},
   "outputs": [
    {
     "name": "stdout",
     "output_type": "stream",
     "text": [
      "               region     state  individuals  family_members  state_pop\n",
      "0  East South Central   Alabama       2570.0           864.0    4887681\n",
      "1             Pacific    Alaska       1434.0           582.0     735139\n",
      "2            Mountain   Arizona       7259.0          2606.0    7158024\n",
      "3  West South Central  Arkansas       2280.0           432.0    3009733\n"
     ]
    }
   ],
   "source": [
    "print(df[:4])"
   ]
  },
  {
   "cell_type": "code",
   "execution_count": 42,
   "id": "2c919be2",
   "metadata": {},
   "outputs": [
    {
     "name": "stdout",
     "output_type": "stream",
     "text": [
      "            region                 state  individuals  family_members  \\\n",
      "7   South Atlantic              Delaware        708.0           374.0   \n",
      "8   South Atlantic  District of Columbia       3770.0          3134.0   \n",
      "9   South Atlantic               Florida      21443.0          9587.0   \n",
      "10  South Atlantic               Georgia       6943.0          2556.0   \n",
      "\n",
      "    state_pop  \n",
      "7      965479  \n",
      "8      701547  \n",
      "9    21244317  \n",
      "10   10511131  \n"
     ]
    }
   ],
   "source": [
    "print(df[7:])"
   ]
  },
  {
   "cell_type": "code",
   "execution_count": 43,
   "id": "01cad678",
   "metadata": {
    "scrolled": true
   },
   "outputs": [
    {
     "name": "stdout",
     "output_type": "stream",
     "text": [
      "           region                 state  individuals  family_members  \\\n",
      "8  South Atlantic  District of Columbia       3770.0          3134.0   \n",
      "9  South Atlantic               Florida      21443.0          9587.0   \n",
      "\n",
      "   state_pop  \n",
      "8     701547  \n",
      "9   21244317  \n"
     ]
    }
   ],
   "source": [
    "print(df[-3:-1])"
   ]
  },
  {
   "cell_type": "code",
   "execution_count": 44,
   "id": "2480fec1",
   "metadata": {
    "scrolled": true
   },
   "outputs": [
    {
     "name": "stdout",
     "output_type": "stream",
     "text": [
      "              state  individuals  family_members  state_pop\n",
      "region                                                     \n",
      "Pacific      Alaska       1434.0           582.0     735139\n",
      "Pacific  California     109008.0         20964.0   39461588\n"
     ]
    }
   ],
   "source": [
    "# loc\n",
    "idx_region_df = df.set_index('region')\n",
    "print(idx_region_df.loc[\"Pacific\"])"
   ]
  },
  {
   "cell_type": "code",
   "execution_count": 45,
   "id": "fced4965",
   "metadata": {},
   "outputs": [
    {
     "name": "stdout",
     "output_type": "stream",
     "text": [
      "                               state  individuals  family_members  state_pop\n",
      "region                                                                      \n",
      "Mountain                     Arizona       7259.0          2606.0    7158024\n",
      "Mountain                    Colorado       7607.0          3250.0    5691287\n",
      "South Atlantic              Delaware        708.0           374.0     965479\n",
      "South Atlantic  District of Columbia       3770.0          3134.0     701547\n",
      "South Atlantic               Florida      21443.0          9587.0   21244317\n",
      "South Atlantic               Georgia       6943.0          2556.0   10511131\n"
     ]
    }
   ],
   "source": [
    "print(idx_region_df.loc[[\"Mountain\", \"South Atlantic\"]])"
   ]
  },
  {
   "cell_type": "code",
   "execution_count": 46,
   "id": "135187f1",
   "metadata": {
    "scrolled": true
   },
   "outputs": [
    {
     "name": "stdout",
     "output_type": "stream",
     "text": [
      "                               state  state_pop\n",
      "region                                         \n",
      "Mountain                     Arizona    7158024\n",
      "Mountain                    Colorado    5691287\n",
      "South Atlantic              Delaware     965479\n",
      "South Atlantic  District of Columbia     701547\n",
      "South Atlantic               Florida   21244317\n",
      "South Atlantic               Georgia   10511131\n"
     ]
    }
   ],
   "source": [
    "# retrieve specific columns\n",
    "print(idx_region_df.loc[[\"Mountain\", \"South Atlantic\"], [\"state\", \"state_pop\"]])"
   ]
  },
  {
   "cell_type": "code",
   "execution_count": 47,
   "id": "8552c61e",
   "metadata": {},
   "outputs": [
    {
     "name": "stdout",
     "output_type": "stream",
     "text": [
      "                                   state  state_pop\n",
      "region                                             \n",
      "East South Central               Alabama    4887681\n",
      "Pacific                           Alaska     735139\n",
      "Mountain                         Arizona    7158024\n",
      "West South Central              Arkansas    3009733\n",
      "Pacific                       California   39461588\n",
      "Mountain                        Colorado    5691287\n",
      "New England                  Connecticut    3571520\n",
      "South Atlantic                  Delaware     965479\n",
      "South Atlantic      District of Columbia     701547\n",
      "South Atlantic                   Florida   21244317\n",
      "South Atlantic                   Georgia   10511131\n",
      "\n",
      "\n",
      "Without indexing...\n",
      "                region                 state  state_pop\n",
      "0   East South Central               Alabama    4887681\n",
      "1              Pacific                Alaska     735139\n",
      "2             Mountain               Arizona    7158024\n",
      "3   West South Central              Arkansas    3009733\n",
      "4              Pacific            California   39461588\n",
      "5             Mountain              Colorado    5691287\n",
      "6          New England           Connecticut    3571520\n",
      "7       South Atlantic              Delaware     965479\n",
      "8       South Atlantic  District of Columbia     701547\n",
      "9       South Atlantic               Florida   21244317\n",
      "10      South Atlantic               Georgia   10511131\n"
     ]
    }
   ],
   "source": [
    "# retreive all rows with specific columns\n",
    "print(idx_region_df.loc[:, [\"state\", \"state_pop\"]])\n",
    "print(\"\\n\\nWithout indexing...\")\n",
    "print(df.loc[:, [\"region\", \"state\", \"state_pop\"]])"
   ]
  },
  {
   "cell_type": "code",
   "execution_count": 48,
   "id": "fe981a16",
   "metadata": {},
   "outputs": [
    {
     "name": "stdout",
     "output_type": "stream",
     "text": [
      "region            West South Central\n",
      "state                       Arkansas\n",
      "individuals                   2280.0\n",
      "family_members                 432.0\n",
      "state_pop                    3009733\n",
      "Name: 3, dtype: object\n"
     ]
    }
   ],
   "source": [
    "# iloc\n",
    "print(df.iloc[3])"
   ]
  },
  {
   "cell_type": "code",
   "execution_count": 49,
   "id": "2ddd8037",
   "metadata": {},
   "outputs": [
    {
     "name": "stdout",
     "output_type": "stream",
     "text": [
      "               region                 state  individuals  family_members  \\\n",
      "3  West South Central              Arkansas       2280.0           432.0   \n",
      "4             Pacific            California     109008.0         20964.0   \n",
      "8      South Atlantic  District of Columbia       3770.0          3134.0   \n",
      "\n",
      "   state_pop  \n",
      "3    3009733  \n",
      "4   39461588  \n",
      "8     701547  \n"
     ]
    }
   ],
   "source": [
    "print(df.iloc[[3, 4, 8]])"
   ]
  },
  {
   "cell_type": "code",
   "execution_count": 50,
   "id": "7a094885",
   "metadata": {},
   "outputs": [
    {
     "name": "stdout",
     "output_type": "stream",
     "text": [
      "                                   state  state_pop\n",
      "region                                             \n",
      "West South Central              Arkansas    3009733\n",
      "Pacific                       California   39461588\n",
      "South Atlantic      District of Columbia     701547\n",
      "\n",
      "\n",
      "Without indexing...\n",
      "               region                 state  state_pop\n",
      "3  West South Central              Arkansas    3009733\n",
      "4             Pacific            California   39461588\n",
      "8      South Atlantic  District of Columbia     701547\n"
     ]
    }
   ],
   "source": [
    "# selecting specific columns\n",
    "print(idx_region_df.iloc[[3, 4, 8], [0, 3]])\n",
    "print(\"\\n\\nWithout indexing...\")\n",
    "print(df.iloc[[3, 4, 8], [0, 1, 4]])"
   ]
  },
  {
   "cell_type": "code",
   "execution_count": 51,
   "id": "7084039b",
   "metadata": {},
   "outputs": [
    {
     "name": "stdout",
     "output_type": "stream",
     "text": [
      "                                   state  state_pop\n",
      "region                                             \n",
      "East South Central               Alabama    4887681\n",
      "Pacific                           Alaska     735139\n",
      "Mountain                         Arizona    7158024\n",
      "West South Central              Arkansas    3009733\n",
      "Pacific                       California   39461588\n",
      "Mountain                        Colorado    5691287\n",
      "New England                  Connecticut    3571520\n",
      "South Atlantic                  Delaware     965479\n",
      "South Atlantic      District of Columbia     701547\n",
      "South Atlantic                   Florida   21244317\n",
      "South Atlantic                   Georgia   10511131\n"
     ]
    }
   ],
   "source": [
    "print(idx_region_df.iloc[:, [0, 3]])"
   ]
  },
  {
   "cell_type": "markdown",
   "id": "b0f1dfc3",
   "metadata": {},
   "source": [
    "### b) Program to group and aggregate pandas DataFrame"
   ]
  },
  {
   "cell_type": "code",
   "execution_count": 52,
   "id": "f9c00c10",
   "metadata": {},
   "outputs": [
    {
     "name": "stdout",
     "output_type": "stream",
     "text": [
      "               region       state  individuals  family_members  state_pop\n",
      "0  East South Central     Alabama       2570.0           864.0    4887681\n",
      "1             Pacific      Alaska       1434.0           582.0     735139\n",
      "2            Mountain     Arizona       7259.0          2606.0    7158024\n",
      "3  West South Central    Arkansas       2280.0           432.0    3009733\n",
      "4             Pacific  California     109008.0         20964.0   39461588\n",
      "                region          state  individuals  family_members  state_pop\n",
      "46      South Atlantic       Virginia       3928.0          2047.0    8501286\n",
      "47             Pacific     Washington      16424.0          5880.0    7523869\n",
      "48      South Atlantic  West Virginia       1021.0           222.0    1804291\n",
      "49  East North Central      Wisconsin       2740.0          2167.0    5807406\n",
      "50            Mountain        Wyoming        434.0           205.0     577601\n"
     ]
    }
   ],
   "source": [
    "import pandas as pd\n",
    "\n",
    "# read a csv file into dataframe\n",
    "homeless_df = pd.read_csv(\"data/homelessness.csv\", index_col=0)\n",
    "print(homeless_df.head())\n",
    "print(homeless_df.tail())"
   ]
  },
  {
   "cell_type": "code",
   "execution_count": 53,
   "id": "d8252701",
   "metadata": {},
   "outputs": [
    {
     "name": "stdout",
     "output_type": "stream",
     "text": [
      "                                   state  individuals  family_members  \\\n",
      "region                                                                  \n",
      "East South Central               Alabama       2570.0           864.0   \n",
      "Pacific                           Alaska       1434.0           582.0   \n",
      "Mountain                         Arizona       7259.0          2606.0   \n",
      "West South Central              Arkansas       2280.0           432.0   \n",
      "Pacific                       California     109008.0         20964.0   \n",
      "Mountain                        Colorado       7607.0          3250.0   \n",
      "New England                  Connecticut       2280.0          1696.0   \n",
      "South Atlantic                  Delaware        708.0           374.0   \n",
      "South Atlantic      District of Columbia       3770.0          3134.0   \n",
      "South Atlantic                   Florida      21443.0          9587.0   \n",
      "South Atlantic                   Georgia       6943.0          2556.0   \n",
      "Pacific                           Hawaii       4131.0          2399.0   \n",
      "Mountain                           Idaho       1297.0           715.0   \n",
      "East North Central              Illinois       6752.0          3891.0   \n",
      "East North Central               Indiana       3776.0          1482.0   \n",
      "West North Central                  Iowa       1711.0          1038.0   \n",
      "West North Central                Kansas       1443.0           773.0   \n",
      "East South Central              Kentucky       2735.0           953.0   \n",
      "West South Central             Louisiana       2540.0           519.0   \n",
      "New England                        Maine       1450.0          1066.0   \n",
      "South Atlantic                  Maryland       4914.0          2230.0   \n",
      "New England                Massachusetts       6811.0         13257.0   \n",
      "East North Central              Michigan       5209.0          3142.0   \n",
      "West North Central             Minnesota       3993.0          3250.0   \n",
      "East South Central           Mississippi       1024.0           328.0   \n",
      "West North Central              Missouri       3776.0          2107.0   \n",
      "Mountain                         Montana        983.0           422.0   \n",
      "West North Central              Nebraska       1745.0           676.0   \n",
      "Mountain                          Nevada       7058.0           486.0   \n",
      "New England                New Hampshire        835.0           615.0   \n",
      "Mid-Atlantic                  New Jersey       6048.0          3350.0   \n",
      "Mountain                      New Mexico       1949.0           602.0   \n",
      "Mid-Atlantic                    New York      39827.0         52070.0   \n",
      "South Atlantic            North Carolina       6451.0          2817.0   \n",
      "West North Central          North Dakota        467.0            75.0   \n",
      "East North Central                  Ohio       6929.0          3320.0   \n",
      "West South Central              Oklahoma       2823.0          1048.0   \n",
      "Pacific                           Oregon      11139.0          3337.0   \n",
      "Mid-Atlantic                Pennsylvania       8163.0          5349.0   \n",
      "New England                 Rhode Island        747.0           354.0   \n",
      "South Atlantic            South Carolina       3082.0           851.0   \n",
      "West North Central          South Dakota        836.0           323.0   \n",
      "East South Central             Tennessee       6139.0          1744.0   \n",
      "West South Central                 Texas      19199.0          6111.0   \n",
      "Mountain                            Utah       1904.0           972.0   \n",
      "New England                      Vermont        780.0           511.0   \n",
      "South Atlantic                  Virginia       3928.0          2047.0   \n",
      "Pacific                       Washington      16424.0          5880.0   \n",
      "South Atlantic             West Virginia       1021.0           222.0   \n",
      "East North Central             Wisconsin       2740.0          2167.0   \n",
      "Mountain                         Wyoming        434.0           205.0   \n",
      "\n",
      "                    state_pop  \n",
      "region                         \n",
      "East South Central    4887681  \n",
      "Pacific                735139  \n",
      "Mountain              7158024  \n",
      "West South Central    3009733  \n",
      "Pacific              39461588  \n",
      "Mountain              5691287  \n",
      "New England           3571520  \n",
      "South Atlantic         965479  \n",
      "South Atlantic         701547  \n",
      "South Atlantic       21244317  \n",
      "South Atlantic       10511131  \n",
      "Pacific               1420593  \n",
      "Mountain              1750536  \n",
      "East North Central   12723071  \n",
      "East North Central    6695497  \n",
      "West North Central    3148618  \n",
      "West North Central    2911359  \n",
      "East South Central    4461153  \n",
      "West South Central    4659690  \n",
      "New England           1339057  \n",
      "South Atlantic        6035802  \n",
      "New England           6882635  \n",
      "East North Central    9984072  \n",
      "West North Central    5606249  \n",
      "East South Central    2981020  \n",
      "West North Central    6121623  \n",
      "Mountain              1060665  \n",
      "West North Central    1925614  \n",
      "Mountain              3027341  \n",
      "New England           1353465  \n",
      "Mid-Atlantic          8886025  \n",
      "Mountain              2092741  \n",
      "Mid-Atlantic         19530351  \n",
      "South Atlantic       10381615  \n",
      "West North Central     758080  \n",
      "East North Central   11676341  \n",
      "West South Central    3940235  \n",
      "Pacific               4181886  \n",
      "Mid-Atlantic         12800922  \n",
      "New England           1058287  \n",
      "South Atlantic        5084156  \n",
      "West North Central     878698  \n",
      "East South Central    6771631  \n",
      "West South Central   28628666  \n",
      "Mountain              3153550  \n",
      "New England            624358  \n",
      "South Atlantic        8501286  \n",
      "Pacific               7523869  \n",
      "South Atlantic        1804291  \n",
      "East North Central    5807406  \n",
      "Mountain               577601  \n"
     ]
    }
   ],
   "source": [
    "homeless_idx_region_df = homeless_df.set_index('region')\n",
    "print(homeless_idx_region_df)"
   ]
  },
  {
   "cell_type": "code",
   "execution_count": 54,
   "id": "78100b79",
   "metadata": {},
   "outputs": [
    {
     "name": "stdout",
     "output_type": "stream",
     "text": [
      "         individuals  family_members     state_pop\n",
      "count      51.000000       51.000000  5.100000e+01\n",
      "mean     7225.784314     3504.882353  6.405637e+06\n",
      "std     15991.025083     7805.411811  7.327258e+06\n",
      "min       434.000000       75.000000  5.776010e+05\n",
      "25%      1446.500000      592.000000  1.777414e+06\n",
      "50%      3082.000000     1482.000000  4.461153e+06\n",
      "75%      6781.500000     3196.000000  7.340946e+06\n",
      "max    109008.000000    52070.000000  3.946159e+07\n"
     ]
    }
   ],
   "source": [
    "print(homeless_df.describe())"
   ]
  },
  {
   "cell_type": "code",
   "execution_count": 55,
   "id": "a2f98cd2",
   "metadata": {},
   "outputs": [
    {
     "name": "stdout",
     "output_type": "stream",
     "text": [
      "region            East South CentralPacificMountainWest South Ce...\n",
      "state             AlabamaAlaskaArizonaArkansasCaliforniaColorado...\n",
      "individuals                                                368515.0\n",
      "family_members                                             178749.0\n",
      "state_pop                                                 326687501\n",
      "dtype: object\n"
     ]
    }
   ],
   "source": [
    "# aggregation\n",
    "\n",
    "# sum\n",
    "print(homeless_df.sum())"
   ]
  },
  {
   "cell_type": "code",
   "execution_count": 56,
   "id": "7f8b7027",
   "metadata": {
    "scrolled": true
   },
   "outputs": [
    {
     "name": "stdout",
     "output_type": "stream",
     "text": [
      "individuals          368515.0\n",
      "family_members       178749.0\n",
      "state_pop         326687501.0\n",
      "dtype: float64\n"
     ]
    }
   ],
   "source": [
    "# ignore non-numeric columns using iloc\n",
    "print(homeless_df.iloc[:,2:].sum())"
   ]
  },
  {
   "cell_type": "code",
   "execution_count": 57,
   "id": "885e6ed5",
   "metadata": {},
   "outputs": [
    {
     "name": "stdout",
     "output_type": "stream",
     "text": [
      "individuals       7.225784e+03\n",
      "family_members    3.504882e+03\n",
      "state_pop         6.405637e+06\n",
      "dtype: float64\n"
     ]
    }
   ],
   "source": [
    "# mean\n",
    "print(homeless_df.iloc[:,2:].mean())"
   ]
  },
  {
   "cell_type": "code",
   "execution_count": 58,
   "id": "201991eb",
   "metadata": {},
   "outputs": [
    {
     "name": "stdout",
     "output_type": "stream",
     "text": [
      "         individuals  family_members     state_pop\n",
      "min       434.000000       75.000000  5.776010e+05\n",
      "max    109008.000000    52070.000000  3.946159e+07\n",
      "mean     7225.784314     3504.882353  6.405637e+06\n",
      "std     15991.025083     7805.411811  7.327258e+06\n",
      "count      51.000000       51.000000  5.100000e+01\n"
     ]
    }
   ],
   "source": [
    "# agg\n",
    "print(homeless_df.iloc[:,2:].agg(['min', 'max', 'mean', 'std', 'count']))"
   ]
  },
  {
   "cell_type": "code",
   "execution_count": 59,
   "id": "44a96d38",
   "metadata": {},
   "outputs": [
    {
     "name": "stdout",
     "output_type": "stream",
     "text": [
      "All states from Pacific region\n",
      "              state  individuals  family_members  state_pop\n",
      "region                                                     \n",
      "Pacific      Alaska       1434.0           582.0     735139\n",
      "Pacific  California     109008.0         20964.0   39461588\n",
      "Pacific      Hawaii       4131.0          2399.0    1420593\n",
      "Pacific      Oregon      11139.0          3337.0    4181886\n",
      "Pacific  Washington      16424.0          5880.0    7523869\n",
      "\n",
      "\n",
      "First entries of states for all regions\n",
      "                          state  individuals  family_members  state_pop\n",
      "region                                                                 \n",
      "East North Central     Illinois       6752.0          3891.0   12723071\n",
      "East South Central      Alabama       2570.0           864.0    4887681\n",
      "Mid-Atlantic         New Jersey       6048.0          3350.0    8886025\n",
      "Mountain                Arizona       7259.0          2606.0    7158024\n",
      "New England         Connecticut       2280.0          1696.0    3571520\n",
      "Pacific                  Alaska       1434.0           582.0     735139\n",
      "South Atlantic         Delaware        708.0           374.0     965479\n",
      "West North Central         Iowa       1711.0          1038.0    3148618\n",
      "West South Central     Arkansas       2280.0           432.0    3009733\n"
     ]
    }
   ],
   "source": [
    "\n",
    "print(homeless_df.iloc[:,2:].agg(['min', 'max', 'mean', 'std', 'count']))"
   ]
  },
  {
   "cell_type": "code",
   "execution_count": 60,
   "id": "d73cf91a",
   "metadata": {
    "scrolled": true
   },
   "outputs": [
    {
     "name": "stdout",
     "output_type": "stream",
     "text": [
      "All states from Pacific region\n",
      "              state  individuals  family_members  state_pop\n",
      "region                                                     \n",
      "Pacific      Alaska       1434.0           582.0     735139\n",
      "Pacific  California     109008.0         20964.0   39461588\n",
      "Pacific      Hawaii       4131.0          2399.0    1420593\n",
      "Pacific      Oregon      11139.0          3337.0    4181886\n",
      "Pacific  Washington      16424.0          5880.0    7523869\n",
      "Last entries of states for all regions\n",
      "                            state  individuals  family_members  state_pop\n",
      "region                                                                   \n",
      "East North Central      Wisconsin       2740.0          2167.0    5807406\n",
      "East South Central      Tennessee       6139.0          1744.0    6771631\n",
      "Mid-Atlantic         Pennsylvania       8163.0          5349.0   12800922\n",
      "Mountain                  Wyoming        434.0           205.0     577601\n",
      "New England               Vermont        780.0           511.0     624358\n",
      "Pacific                Washington      16424.0          5880.0    7523869\n",
      "South Atlantic      West Virginia       1021.0           222.0    1804291\n",
      "West North Central   South Dakota        836.0           323.0     878698\n",
      "West South Central          Texas      19199.0          6111.0   28628666\n"
     ]
    }
   ],
   "source": [
    "print(\"All states from Pacific region\")\n",
    "print(homeless_df.set_index('region').loc['Pacific'])\n",
    "\n",
    "print(\"Last entries of states for all regions\")\n",
    "print(group_region.last())"
   ]
  },
  {
   "cell_type": "code",
   "execution_count": 61,
   "id": "5547535c",
   "metadata": {},
   "outputs": [
    {
     "name": "stdout",
     "output_type": "stream",
     "text": [
      "                    individuals  state_pop\n",
      "region                                    \n",
      "East North Central      25406.0   46886387\n",
      "East South Central      12468.0   19101485\n",
      "Mid-Atlantic            54038.0   41217298\n",
      "Mountain                28491.0   24511745\n",
      "New England             12903.0   14829322\n",
      "Pacific                142136.0   53323075\n",
      "South Atlantic          52260.0   65229624\n",
      "West North Central      13971.0   21350241\n",
      "West South Central      26842.0   40238324\n"
     ]
    }
   ],
   "source": [
    "print(group_region[['individuals', 'state_pop']].sum())"
   ]
  },
  {
   "cell_type": "code",
   "execution_count": 62,
   "id": "ddf4e206",
   "metadata": {},
   "outputs": [
    {
     "name": "stdout",
     "output_type": "stream",
     "text": [
      "region\n",
      "East North Central    46886387\n",
      "East South Central    19101485\n",
      "Mid-Atlantic          41217298\n",
      "Mountain              24511745\n",
      "New England           14829322\n",
      "Pacific               53323075\n",
      "South Atlantic        65229624\n",
      "West North Central    21350241\n",
      "West South Central    40238324\n",
      "Name: state_pop, dtype: int64\n"
     ]
    }
   ],
   "source": [
    "print(group_region['state_pop'].sum())"
   ]
  },
  {
   "cell_type": "code",
   "execution_count": 63,
   "id": "df806774",
   "metadata": {},
   "outputs": [
    {
     "name": "stdout",
     "output_type": "stream",
     "text": [
      "               state  individuals  family_members  state_pop\n",
      "region                                                      \n",
      "Mountain     Arizona       7259.0          2606.0    7158024\n",
      "Mountain    Colorado       7607.0          3250.0    5691287\n",
      "Mountain       Idaho       1297.0           715.0    1750536\n",
      "Mountain     Montana        983.0           422.0    1060665\n",
      "Mountain      Nevada       7058.0           486.0    3027341\n",
      "Mountain  New Mexico       1949.0           602.0    2092741\n",
      "Mountain        Utah       1904.0           972.0    3153550\n",
      "Mountain     Wyoming        434.0           205.0     577601\n",
      "\n",
      "\n",
      "Total state population of Mountain region:\n",
      "24511745\n"
     ]
    }
   ],
   "source": [
    "print(homeless_idx_region_df.loc['Mountain'])\n",
    "\n",
    "print(\"\\n\\nTotal state population of Mountain region:\")\n",
    "print(homeless_idx_region_df.loc['Mountain']['state_pop'].sum())"
   ]
  },
  {
   "cell_type": "code",
   "execution_count": 64,
   "id": "f2bbd53a",
   "metadata": {},
   "outputs": [
    {
     "name": "stdout",
     "output_type": "stream",
     "text": [
      "                                         individuals  family_members  \\\n",
      "region             state                                               \n",
      "East North Central Illinois                   6752.0          3891.0   \n",
      "                   Indiana                    3776.0          1482.0   \n",
      "                   Michigan                   5209.0          3142.0   \n",
      "                   Ohio                       6929.0          3320.0   \n",
      "                   Wisconsin                  2740.0          2167.0   \n",
      "East South Central Alabama                    2570.0           864.0   \n",
      "                   Kentucky                   2735.0           953.0   \n",
      "                   Mississippi                1024.0           328.0   \n",
      "                   Tennessee                  6139.0          1744.0   \n",
      "Mid-Atlantic       New Jersey                 6048.0          3350.0   \n",
      "                   New York                  39827.0         52070.0   \n",
      "                   Pennsylvania               8163.0          5349.0   \n",
      "Mountain           Arizona                    7259.0          2606.0   \n",
      "                   Colorado                   7607.0          3250.0   \n",
      "                   Idaho                      1297.0           715.0   \n",
      "                   Montana                     983.0           422.0   \n",
      "                   Nevada                     7058.0           486.0   \n",
      "                   New Mexico                 1949.0           602.0   \n",
      "                   Utah                       1904.0           972.0   \n",
      "                   Wyoming                     434.0           205.0   \n",
      "New England        Connecticut                2280.0          1696.0   \n",
      "                   Maine                      1450.0          1066.0   \n",
      "                   Massachusetts              6811.0         13257.0   \n",
      "                   New Hampshire               835.0           615.0   \n",
      "                   Rhode Island                747.0           354.0   \n",
      "                   Vermont                     780.0           511.0   \n",
      "Pacific            Alaska                     1434.0           582.0   \n",
      "                   California               109008.0         20964.0   \n",
      "                   Hawaii                     4131.0          2399.0   \n",
      "                   Oregon                    11139.0          3337.0   \n",
      "                   Washington                16424.0          5880.0   \n",
      "South Atlantic     Delaware                    708.0           374.0   \n",
      "                   District of Columbia       3770.0          3134.0   \n",
      "                   Florida                   21443.0          9587.0   \n",
      "                   Georgia                    6943.0          2556.0   \n",
      "                   Maryland                   4914.0          2230.0   \n",
      "                   North Carolina             6451.0          2817.0   \n",
      "                   South Carolina             3082.0           851.0   \n",
      "                   Virginia                   3928.0          2047.0   \n",
      "                   West Virginia              1021.0           222.0   \n",
      "West North Central Iowa                       1711.0          1038.0   \n",
      "                   Kansas                     1443.0           773.0   \n",
      "                   Minnesota                  3993.0          3250.0   \n",
      "                   Missouri                   3776.0          2107.0   \n",
      "                   Nebraska                   1745.0           676.0   \n",
      "                   North Dakota                467.0            75.0   \n",
      "                   South Dakota                836.0           323.0   \n",
      "West South Central Arkansas                   2280.0           432.0   \n",
      "                   Louisiana                  2540.0           519.0   \n",
      "                   Oklahoma                   2823.0          1048.0   \n",
      "                   Texas                     19199.0          6111.0   \n",
      "\n",
      "                                         state_pop  \n",
      "region             state                            \n",
      "East North Central Illinois               12723071  \n",
      "                   Indiana                 6695497  \n",
      "                   Michigan                9984072  \n",
      "                   Ohio                   11676341  \n",
      "                   Wisconsin               5807406  \n",
      "East South Central Alabama                 4887681  \n",
      "                   Kentucky                4461153  \n",
      "                   Mississippi             2981020  \n",
      "                   Tennessee               6771631  \n",
      "Mid-Atlantic       New Jersey              8886025  \n",
      "                   New York               19530351  \n",
      "                   Pennsylvania           12800922  \n",
      "Mountain           Arizona                 7158024  \n",
      "                   Colorado                5691287  \n",
      "                   Idaho                   1750536  \n",
      "                   Montana                 1060665  \n",
      "                   Nevada                  3027341  \n",
      "                   New Mexico              2092741  \n",
      "                   Utah                    3153550  \n",
      "                   Wyoming                  577601  \n",
      "New England        Connecticut             3571520  \n",
      "                   Maine                   1339057  \n",
      "                   Massachusetts           6882635  \n",
      "                   New Hampshire           1353465  \n",
      "                   Rhode Island            1058287  \n",
      "                   Vermont                  624358  \n",
      "Pacific            Alaska                   735139  \n",
      "                   California             39461588  \n",
      "                   Hawaii                  1420593  \n",
      "                   Oregon                  4181886  \n",
      "                   Washington              7523869  \n",
      "South Atlantic     Delaware                 965479  \n",
      "                   District of Columbia     701547  \n",
      "                   Florida                21244317  \n",
      "                   Georgia                10511131  \n",
      "                   Maryland                6035802  \n",
      "                   North Carolina         10381615  \n",
      "                   South Carolina          5084156  \n",
      "                   Virginia                8501286  \n",
      "                   West Virginia           1804291  \n",
      "West North Central Iowa                    3148618  \n",
      "                   Kansas                  2911359  \n",
      "                   Minnesota               5606249  \n",
      "                   Missouri                6121623  \n",
      "                   Nebraska                1925614  \n",
      "                   North Dakota             758080  \n",
      "                   South Dakota             878698  \n",
      "West South Central Arkansas                3009733  \n",
      "                   Louisiana               4659690  \n",
      "                   Oklahoma                3940235  \n",
      "                   Texas                  28628666  \n"
     ]
    }
   ],
   "source": [
    "# group by multiple columns\n",
    "df_grp_1 = homeless_df.groupby(by=['region', 'state']).sum()\n",
    "print(df_grp_1)"
   ]
  },
  {
   "cell_type": "markdown",
   "id": "b3617fb3",
   "metadata": {},
   "source": [
    "### c) Program to merge pandas DataFrames"
   ]
  },
  {
   "cell_type": "code",
   "execution_count": 65,
   "id": "c8631dbb",
   "metadata": {},
   "outputs": [
    {
     "name": "stdout",
     "output_type": "stream",
     "text": [
      "df1:\n",
      "   user_id first_name last_name                  email\n",
      "0   id001       Rivi     Valti    rvalti0@example.com\n",
      "1   id002     Wynnie   McMurty  wmcmurty1@example.com\n",
      "2   id003    Kristos   Ivanets  kivanets2@example.com\n",
      "3   id004    Madalyn       Max      mmax3@example.com\n",
      "4   id005       Tobe   Riddich  triddich4@example.com\n",
      "5   id006      Regan    Huyghe    rhuyghe@example.com\n",
      "6   id007    Kristin     Illis    killis4@example.com\n",
      "\n",
      "\n",
      "df2:\n",
      "   user_id                         image_url\n",
      "0   id001  http://example.com/img/id001.png\n",
      "1   id002  http://example.com/img/id002.jpg\n",
      "2   id003  http://example.com/img/id003.bmp\n",
      "3   id004  http://example.com/img/id004.jpg\n",
      "4   id005  http://example.com/img/id005.png\n",
      "5   id008  http://example.com/img/id008.jpg\n"
     ]
    }
   ],
   "source": [
    "import pandas as pd\n",
    "\n",
    "# df1 will include our imaginary user list with names, emails, and IDs.\n",
    "df1 = pd.DataFrame({'user_id': ['id001', 'id002', 'id003', 'id004', 'id005', 'id006', 'id007'],\n",
    "                    'first_name': ['Rivi', 'Wynnie', 'Kristos', 'Madalyn', 'Tobe', 'Regan', 'Kristin'],\n",
    "                    'last_name': ['Valti', 'McMurty', 'Ivanets', 'Max', 'Riddich', 'Huyghe', 'Illis'],\n",
    "                    'email': ['rvalti0@example.com', 'wmcmurty1@example.com', 'kivanets2@example.com',\n",
    "                              'mmax3@example.com', 'triddich4@example.com', 'rhuyghe@example.com',\n",
    "                              'killis4@example.com']\n",
    "                    })\n",
    "\n",
    "# df2 will include image URLs and user IDs\n",
    "df2 = pd.DataFrame({'user_id': ['id001', 'id002', 'id003', 'id004', 'id005', 'id008'],\n",
    "                    'image_url': ['http://example.com/img/id001.png', 'http://example.com/img/id002.jpg',\n",
    "                                  'http://example.com/img/id003.bmp', 'http://example.com/img/id004.jpg',\n",
    "                                  'http://example.com/img/id005.png', 'http://example.com/img/id008.jpg']\n",
    "                    })\n",
    "\n",
    "print(\"df1:\\n\", df1)\n",
    "print(\"\\n\\ndf2:\\n\", df2)"
   ]
  },
  {
   "cell_type": "code",
   "execution_count": 66,
   "id": "55b66fff",
   "metadata": {},
   "outputs": [
    {
     "name": "stdout",
     "output_type": "stream",
     "text": [
      "  user_id first_name last_name                  email  \\\n",
      "0   id001       Rivi     Valti    rvalti0@example.com   \n",
      "1   id002     Wynnie   McMurty  wmcmurty1@example.com   \n",
      "2   id003    Kristos   Ivanets  kivanets2@example.com   \n",
      "3   id004    Madalyn       Max      mmax3@example.com   \n",
      "4   id005       Tobe   Riddich  triddich4@example.com   \n",
      "\n",
      "                          image_url  \n",
      "0  http://example.com/img/id001.png  \n",
      "1  http://example.com/img/id002.jpg  \n",
      "2  http://example.com/img/id003.bmp  \n",
      "3  http://example.com/img/id004.jpg  \n",
      "4  http://example.com/img/id005.png  \n"
     ]
    }
   ],
   "source": [
    "# merge function\n",
    "\n",
    "# default merge is inner join; hence only 5 records are present\n",
    "df3_merged = pd.merge(df1, df2)\n",
    "print(df3_merged)"
   ]
  },
  {
   "cell_type": "code",
   "execution_count": 67,
   "id": "71f32ae1",
   "metadata": {},
   "outputs": [
    {
     "name": "stdout",
     "output_type": "stream",
     "text": [
      "  user_id first_name last_name                  email  \\\n",
      "0   id001       Rivi     Valti    rvalti0@example.com   \n",
      "1   id002     Wynnie   McMurty  wmcmurty1@example.com   \n",
      "2   id003    Kristos   Ivanets  kivanets2@example.com   \n",
      "3   id004    Madalyn       Max      mmax3@example.com   \n",
      "4   id005       Tobe   Riddich  triddich4@example.com   \n",
      "5   id006      Regan    Huyghe    rhuyghe@example.com   \n",
      "6   id007    Kristin     Illis    killis4@example.com   \n",
      "\n",
      "                          image_url  \n",
      "0  http://example.com/img/id001.png  \n",
      "1  http://example.com/img/id002.jpg  \n",
      "2  http://example.com/img/id003.bmp  \n",
      "3  http://example.com/img/id004.jpg  \n",
      "4  http://example.com/img/id005.png  \n",
      "5                               NaN  \n",
      "6                               NaN  \n"
     ]
    }
   ],
   "source": [
    "# left join\n",
    "df_left_merge = pd.merge(df1, df2, how='left')\n",
    "print(df_left_merge)"
   ]
  },
  {
   "cell_type": "code",
   "execution_count": 68,
   "id": "5ee34e88",
   "metadata": {},
   "outputs": [
    {
     "name": "stdout",
     "output_type": "stream",
     "text": [
      "  user_id first_name last_name                  email  \\\n",
      "0   id001       Rivi     Valti    rvalti0@example.com   \n",
      "1   id002     Wynnie   McMurty  wmcmurty1@example.com   \n",
      "2   id003    Kristos   Ivanets  kivanets2@example.com   \n",
      "3   id004    Madalyn       Max      mmax3@example.com   \n",
      "4   id005       Tobe   Riddich  triddich4@example.com   \n",
      "5   id008        NaN       NaN                    NaN   \n",
      "\n",
      "                          image_url  \n",
      "0  http://example.com/img/id001.png  \n",
      "1  http://example.com/img/id002.jpg  \n",
      "2  http://example.com/img/id003.bmp  \n",
      "3  http://example.com/img/id004.jpg  \n",
      "4  http://example.com/img/id005.png  \n",
      "5  http://example.com/img/id008.jpg  \n"
     ]
    }
   ],
   "source": [
    "# right join\n",
    "df_right_merge = pd.merge(df1, df2, how='right')\n",
    "print(df_right_merge)"
   ]
  },
  {
   "cell_type": "code",
   "execution_count": 69,
   "id": "d081f7c6",
   "metadata": {
    "scrolled": true
   },
   "outputs": [
    {
     "name": "stdout",
     "output_type": "stream",
     "text": [
      "  user_id first_name last_name                  email  \\\n",
      "0   id001       Rivi     Valti    rvalti0@example.com   \n",
      "1   id002     Wynnie   McMurty  wmcmurty1@example.com   \n",
      "2   id003    Kristos   Ivanets  kivanets2@example.com   \n",
      "3   id004    Madalyn       Max      mmax3@example.com   \n",
      "4   id005       Tobe   Riddich  triddich4@example.com   \n",
      "5   id006      Regan    Huyghe    rhuyghe@example.com   \n",
      "6   id007    Kristin     Illis    killis4@example.com   \n",
      "\n",
      "                          image_url     _merge  \n",
      "0  http://example.com/img/id001.png       both  \n",
      "1  http://example.com/img/id002.jpg       both  \n",
      "2  http://example.com/img/id003.bmp       both  \n",
      "3  http://example.com/img/id004.jpg       both  \n",
      "4  http://example.com/img/id005.png       both  \n",
      "5                               NaN  left_only  \n",
      "6                               NaN  left_only  \n",
      "\n",
      "\n",
      "  user_id first_name last_name                  email  \\\n",
      "0   id001       Rivi     Valti    rvalti0@example.com   \n",
      "1   id002     Wynnie   McMurty  wmcmurty1@example.com   \n",
      "2   id003    Kristos   Ivanets  kivanets2@example.com   \n",
      "3   id004    Madalyn       Max      mmax3@example.com   \n",
      "4   id005       Tobe   Riddich  triddich4@example.com   \n",
      "5   id006      Regan    Huyghe    rhuyghe@example.com   \n",
      "6   id007    Kristin     Illis    killis4@example.com   \n",
      "7   id008        NaN       NaN                    NaN   \n",
      "\n",
      "                          image_url      _merge  \n",
      "0  http://example.com/img/id001.png        both  \n",
      "1  http://example.com/img/id002.jpg        both  \n",
      "2  http://example.com/img/id003.bmp        both  \n",
      "3  http://example.com/img/id004.jpg        both  \n",
      "4  http://example.com/img/id005.png        both  \n",
      "5                               NaN   left_only  \n",
      "6                               NaN   left_only  \n",
      "7  http://example.com/img/id008.jpg  right_only  \n"
     ]
    }
   ],
   "source": [
    "# outer join\n",
    "df_left = pd.merge(df1, df2, how='left', indicator=True)\n",
    "df_outer = pd.merge(df1, df2, how='outer', indicator=True)\n",
    "\n",
    "print(df_left)\n",
    "print('\\n')\n",
    "print(df_outer)"
   ]
  },
  {
   "cell_type": "code",
   "execution_count": 70,
   "id": "25ee9c03",
   "metadata": {},
   "outputs": [
    {
     "name": "stdout",
     "output_type": "stream",
     "text": [
      "  user_id first_name last_name                  email user_id_right  \\\n",
      "0   id001       Rivi     Valti    rvalti0@example.com         id001   \n",
      "1   id002     Wynnie   McMurty  wmcmurty1@example.com         id002   \n",
      "2   id003    Kristos   Ivanets  kivanets2@example.com         id003   \n",
      "3   id004    Madalyn       Max      mmax3@example.com         id004   \n",
      "4   id005       Tobe   Riddich  triddich4@example.com         id005   \n",
      "5   id006      Regan    Huyghe    rhuyghe@example.com         id008   \n",
      "6   id007    Kristin     Illis    killis4@example.com           NaN   \n",
      "\n",
      "                          image_url  \n",
      "0  http://example.com/img/id001.png  \n",
      "1  http://example.com/img/id002.jpg  \n",
      "2  http://example.com/img/id003.bmp  \n",
      "3  http://example.com/img/id004.jpg  \n",
      "4  http://example.com/img/id005.png  \n",
      "5  http://example.com/img/id008.jpg  \n",
      "6                               NaN  \n"
     ]
    }
   ],
   "source": [
    "# join method\n",
    "df_join = df1.join(df2, rsuffix='_right')\n",
    "print(df_join)"
   ]
  },
  {
   "cell_type": "code",
   "execution_count": 71,
   "id": "6f5012be",
   "metadata": {},
   "outputs": [
    {
     "name": "stdout",
     "output_type": "stream",
     "text": [
      "        first_name last_name                  email  \\\n",
      "user_id                                               \n",
      "id001         Rivi     Valti    rvalti0@example.com   \n",
      "id002       Wynnie   McMurty  wmcmurty1@example.com   \n",
      "id003      Kristos   Ivanets  kivanets2@example.com   \n",
      "id004      Madalyn       Max      mmax3@example.com   \n",
      "id005         Tobe   Riddich  triddich4@example.com   \n",
      "id006        Regan    Huyghe    rhuyghe@example.com   \n",
      "id007      Kristin     Illis    killis4@example.com   \n",
      "\n",
      "                                image_url  \n",
      "user_id                                    \n",
      "id001    http://example.com/img/id001.png  \n",
      "id002    http://example.com/img/id002.jpg  \n",
      "id003    http://example.com/img/id003.bmp  \n",
      "id004    http://example.com/img/id004.jpg  \n",
      "id005    http://example.com/img/id005.png  \n",
      "id006                                 NaN  \n",
      "id007                                 NaN  \n"
     ]
    }
   ],
   "source": [
    "df_join_no_duplicates = df1.set_index('user_id').join(df2.set_index('user_id'))\n",
    "print(df_join_no_duplicates)"
   ]
  },
  {
   "cell_type": "code",
   "execution_count": 72,
   "id": "1fb9db96",
   "metadata": {},
   "outputs": [
    {
     "name": "stdout",
     "output_type": "stream",
     "text": [
      "        first_name last_name                  email  \\\n",
      "user_id                                               \n",
      "id001         Rivi     Valti    rvalti0@example.com   \n",
      "id002       Wynnie   McMurty  wmcmurty1@example.com   \n",
      "id003      Kristos   Ivanets  kivanets2@example.com   \n",
      "id004      Madalyn       Max      mmax3@example.com   \n",
      "id005         Tobe   Riddich  triddich4@example.com   \n",
      "\n",
      "                                image_url  \n",
      "user_id                                    \n",
      "id001    http://example.com/img/id001.png  \n",
      "id002    http://example.com/img/id002.jpg  \n",
      "id003    http://example.com/img/id003.bmp  \n",
      "id004    http://example.com/img/id004.jpg  \n",
      "id005    http://example.com/img/id005.png  \n"
     ]
    }
   ],
   "source": [
    "inner_join_df = df1.set_index('user_id').join(df2.set_index('user_id'), on='user_id', how='inner')\n",
    "print(inner_join_df)"
   ]
  },
  {
   "cell_type": "code",
   "execution_count": 73,
   "id": "fbace20f",
   "metadata": {},
   "outputs": [
    {
     "name": "stdout",
     "output_type": "stream",
     "text": [
      "      user_id first_name last_name                  email  \\\n",
      "id001   id001       Rivi     Valti    rvalti0@example.com   \n",
      "id002   id002     Wynnie   McMurty  wmcmurty1@example.com   \n",
      "id003   id003    Kristos   Ivanets  kivanets2@example.com   \n",
      "id004   id004    Madalyn       Max      mmax3@example.com   \n",
      "id005   id005       Tobe   Riddich  triddich4@example.com   \n",
      "id006   id006      Regan    Huyghe    rhuyghe@example.com   \n",
      "id007   id007    Kristin     Illis    killis4@example.com   \n",
      "NaN     id008        NaN       NaN                    NaN   \n",
      "\n",
      "                              image_url  \n",
      "id001  http://example.com/img/id001.png  \n",
      "id002  http://example.com/img/id002.jpg  \n",
      "id003  http://example.com/img/id003.bmp  \n",
      "id004  http://example.com/img/id004.jpg  \n",
      "id005  http://example.com/img/id005.png  \n",
      "id006                               NaN  \n",
      "id007                               NaN  \n",
      "NaN    http://example.com/img/id008.jpg  \n"
     ]
    }
   ],
   "source": [
    "outer_join_df = df1.set_index('user_id').join(df2.set_index('user_id'), on='user_id', how='outer')\n",
    "print(outer_join_df)"
   ]
  },
  {
   "cell_type": "code",
   "execution_count": 74,
   "id": "bb639224",
   "metadata": {},
   "outputs": [
    {
     "name": "stdout",
     "output_type": "stream",
     "text": [
      "        first_name last_name                  email  \\\n",
      "user_id                                               \n",
      "id001         Rivi     Valti    rvalti0@example.com   \n",
      "id002       Wynnie   McMurty  wmcmurty1@example.com   \n",
      "id003      Kristos   Ivanets  kivanets2@example.com   \n",
      "id004      Madalyn       Max      mmax3@example.com   \n",
      "id005         Tobe   Riddich  triddich4@example.com   \n",
      "id006        Regan    Huyghe    rhuyghe@example.com   \n",
      "id007      Kristin     Illis    killis4@example.com   \n",
      "\n",
      "                                image_url  \n",
      "user_id                                    \n",
      "id001    http://example.com/img/id001.png  \n",
      "id002    http://example.com/img/id002.jpg  \n",
      "id003    http://example.com/img/id003.bmp  \n",
      "id004    http://example.com/img/id004.jpg  \n",
      "id005    http://example.com/img/id005.png  \n",
      "id006                                 NaN  \n",
      "id007                                 NaN  \n"
     ]
    }
   ],
   "source": [
    "df_join_1 = df1.set_index('user_id').join(df2.set_index('user_id'), on='user_id', how='left')\n",
    "print(df_join_1)"
   ]
  },
  {
   "cell_type": "code",
   "execution_count": 76,
   "id": "227bb354",
   "metadata": {},
   "outputs": [
    {
     "name": "stdout",
     "output_type": "stream",
     "text": [
      "      user_id first_name last_name                  email  \\\n",
      "id001   id001       Rivi     Valti    rvalti0@example.com   \n",
      "id002   id002     Wynnie   McMurty  wmcmurty1@example.com   \n",
      "id003   id003    Kristos   Ivanets  kivanets2@example.com   \n",
      "id004   id004    Madalyn       Max      mmax3@example.com   \n",
      "id005   id005       Tobe   Riddich  triddich4@example.com   \n",
      "NaN     id008        NaN       NaN                    NaN   \n",
      "\n",
      "                              image_url  \n",
      "id001  http://example.com/img/id001.png  \n",
      "id002  http://example.com/img/id002.jpg  \n",
      "id003  http://example.com/img/id003.bmp  \n",
      "id004  http://example.com/img/id004.jpg  \n",
      "id005  http://example.com/img/id005.png  \n",
      "NaN    http://example.com/img/id008.jpg  \n"
     ]
    }
   ],
   "source": [
    "df_join_2 = df1.set_index('user_id').join(df2.set_index('user_id'), on='user_id', how='right')\n",
    "print(df_join_2)"
   ]
  },
  {
   "cell_type": "code",
   "execution_count": null,
   "id": "7501f651",
   "metadata": {},
   "outputs": [],
   "source": []
  }
 ],
 "metadata": {
  "kernelspec": {
   "display_name": "Python 3 (ipykernel)",
   "language": "python",
   "name": "python3"
  },
  "language_info": {
   "codemirror_mode": {
    "name": "ipython",
    "version": 3
   },
   "file_extension": ".py",
   "mimetype": "text/x-python",
   "name": "python",
   "nbconvert_exporter": "python",
   "pygments_lexer": "ipython3",
   "version": "3.9.13"
  }
 },
 "nbformat": 4,
 "nbformat_minor": 5
}
